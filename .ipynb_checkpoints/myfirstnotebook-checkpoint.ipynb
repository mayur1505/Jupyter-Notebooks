{
 "cells": [
  {
   "cell_type": "code",
   "execution_count": 2,
   "id": "5dac5bf9",
   "metadata": {},
   "outputs": [
    {
     "data": {
      "text/html": [
       "<img src=\"https://media-exp1.licdn.com/dms/image/C5603AQE0mi8GtJ10TA/profile-displayphoto-shrink_200_200/0/1601899096094?e=1636588800&v=beta&t=5HiR8IZTH2Zf_kB6JwZLIhHsu6i1uGyPUdKejkoHk5w\" style=\"width:4000pxheight:5000px;\">\n"
      ],
      "text/plain": [
       "<IPython.core.display.HTML object>"
      ]
     },
     "metadata": {},
     "output_type": "display_data"
    }
   ],
   "source": [
    "%%html\n",
    "<img src=\"https://media-exp1.licdn.com/dms/image/C5603AQE0mi8GtJ10TA/profile-displayphoto-shrink_200_200/0/1601899096094?e=1636588800&v=beta&t=5HiR8IZTH2Zf_kB6JwZLIhHsu6i1uGyPUdKejkoHk5w\" style=\"width:4000pxheight:5000px;\">\n"
   ]
  },
  {
   "cell_type": "markdown",
   "id": "c94e491f",
   "metadata": {},
   "source": [
    "# Hi guys\n",
    "\n",
    "*This is **my first notebook created in jupyter file** and I am very happy.\n",
    "I am looking ahead to make many jupyter notebooks*"
   ]
  },
  {
   "cell_type": "code",
   "execution_count": 2,
   "id": "fedb5f83",
   "metadata": {},
   "outputs": [],
   "source": [
    "from pandas_datareader import data as web\n",
    "import datetime\n",
    "%matplotlib inline\n",
    "import matplotlib\n",
    "matplotlib.style.use('ggplot')"
   ]
  },
  {
   "cell_type": "code",
   "execution_count": 3,
   "id": "c9f17b66",
   "metadata": {},
   "outputs": [],
   "source": [
    "f=web.DataReader(\"NVDA\", 'yahoo', '2016/1/1','2017/1/1')"
   ]
  },
  {
   "cell_type": "code",
   "execution_count": 4,
   "id": "8c1e89bb",
   "metadata": {},
   "outputs": [
    {
     "data": {
      "text/html": [
       "<iframe width=\"560\" height=\"315\" src=\"https://www.youtube.com/embed/EEEZX_0FMEc\" title=\"YouTube video player\" frameborder=\"0\" allow=\"accelerometer; autoplay; clipboard-write; encrypted-media; gyroscope; picture-in-picture\" allowfullscreen></iframe>\n"
      ],
      "text/plain": [
       "<IPython.core.display.HTML object>"
      ]
     },
     "metadata": {},
     "output_type": "display_data"
    }
   ],
   "source": [
    "%%html\n",
    "<iframe width=\"560\" height=\"315\" src=\"https://www.youtube.com/embed/EEEZX_0FMEc\" title=\"YouTube video player\" frameborder=\"0\" allow=\"accelerometer; autoplay; clipboard-write; encrypted-media; gyroscope; picture-in-picture\" allowfullscreen></iframe>"
   ]
  },
  {
   "cell_type": "code",
   "execution_count": 5,
   "id": "5e842430",
   "metadata": {},
   "outputs": [
    {
     "data": {
      "text/html": [
       "<div>\n",
       "<style scoped>\n",
       "    .dataframe tbody tr th:only-of-type {\n",
       "        vertical-align: middle;\n",
       "    }\n",
       "\n",
       "    .dataframe tbody tr th {\n",
       "        vertical-align: top;\n",
       "    }\n",
       "\n",
       "    .dataframe thead th {\n",
       "        text-align: right;\n",
       "    }\n",
       "</style>\n",
       "<table border=\"1\" class=\"dataframe\">\n",
       "  <thead>\n",
       "    <tr style=\"text-align: right;\">\n",
       "      <th></th>\n",
       "      <th>High</th>\n",
       "      <th>Low</th>\n",
       "      <th>Open</th>\n",
       "      <th>Close</th>\n",
       "      <th>Volume</th>\n",
       "      <th>Adj Close</th>\n",
       "    </tr>\n",
       "    <tr>\n",
       "      <th>Date</th>\n",
       "      <th></th>\n",
       "      <th></th>\n",
       "      <th></th>\n",
       "      <th></th>\n",
       "      <th></th>\n",
       "      <th></th>\n",
       "    </tr>\n",
       "  </thead>\n",
       "  <tbody>\n",
       "    <tr>\n",
       "      <th>2015-12-31</th>\n",
       "      <td>8.3725</td>\n",
       "      <td>8.240</td>\n",
       "      <td>8.3350</td>\n",
       "      <td>8.2400</td>\n",
       "      <td>14852800.0</td>\n",
       "      <td>8.056352</td>\n",
       "    </tr>\n",
       "    <tr>\n",
       "      <th>2016-01-04</th>\n",
       "      <td>8.1450</td>\n",
       "      <td>8.010</td>\n",
       "      <td>8.0725</td>\n",
       "      <td>8.0925</td>\n",
       "      <td>35807600.0</td>\n",
       "      <td>7.912141</td>\n",
       "    </tr>\n",
       "    <tr>\n",
       "      <th>2016-01-05</th>\n",
       "      <td>8.3600</td>\n",
       "      <td>8.125</td>\n",
       "      <td>8.2450</td>\n",
       "      <td>8.2225</td>\n",
       "      <td>49027200.0</td>\n",
       "      <td>8.039246</td>\n",
       "    </tr>\n",
       "    <tr>\n",
       "      <th>2016-01-06</th>\n",
       "      <td>8.1250</td>\n",
       "      <td>7.790</td>\n",
       "      <td>8.0875</td>\n",
       "      <td>7.8825</td>\n",
       "      <td>44934400.0</td>\n",
       "      <td>7.706821</td>\n",
       "    </tr>\n",
       "    <tr>\n",
       "      <th>2016-01-07</th>\n",
       "      <td>7.7375</td>\n",
       "      <td>7.470</td>\n",
       "      <td>7.6850</td>\n",
       "      <td>7.5700</td>\n",
       "      <td>64530400.0</td>\n",
       "      <td>7.401287</td>\n",
       "    </tr>\n",
       "  </tbody>\n",
       "</table>\n",
       "</div>"
      ],
      "text/plain": [
       "              High    Low    Open   Close      Volume  Adj Close\n",
       "Date                                                            \n",
       "2015-12-31  8.3725  8.240  8.3350  8.2400  14852800.0   8.056352\n",
       "2016-01-04  8.1450  8.010  8.0725  8.0925  35807600.0   7.912141\n",
       "2016-01-05  8.3600  8.125  8.2450  8.2225  49027200.0   8.039246\n",
       "2016-01-06  8.1250  7.790  8.0875  7.8825  44934400.0   7.706821\n",
       "2016-01-07  7.7375  7.470  7.6850  7.5700  64530400.0   7.401287"
      ]
     },
     "execution_count": 5,
     "metadata": {},
     "output_type": "execute_result"
    }
   ],
   "source": [
    "f.head()"
   ]
  },
  {
   "cell_type": "code",
   "execution_count": 6,
   "id": "f5375549",
   "metadata": {
    "scrolled": true
   },
   "outputs": [
    {
     "data": {
      "text/plain": [
       "<AxesSubplot:xlabel='Date'>"
      ]
     },
     "execution_count": 6,
     "metadata": {},
     "output_type": "execute_result"
    },
    {
     "data": {
      "image/png": "[encoded data removed]",
      "text/plain": [
       "<Figure size 432x288 with 1 Axes>"
      ]
     },
     "metadata": {},
     "output_type": "display_data"
    }
   ],
   "source": [
    "f.plot(y=\"Close\",color=\"Green\")"
   ]
  },
  {
   "cell_type": "code",
   "execution_count": 7,
   "id": "dd61b64f",
   "metadata": {},
   "outputs": [
    {
     "data": {
      "application/json": {
       "cell": {
        "!": "OSMagics",
        "HTML": "Other",
        "SVG": "Other",
        "bash": "Other",
        "capture": "ExecutionMagics",
        "cmd": "Other",
        "debug": "ExecutionMagics",
        "file": "Other",
        "html": "DisplayMagics",
        "javascript": "DisplayMagics",
        "js": "DisplayMagics",
        "latex": "DisplayMagics",
        "markdown": "DisplayMagics",
        "perl": "Other",
        "prun": "ExecutionMagics",
        "pypy": "Other",
        "python": "Other",
        "python2": "Other",
        "python3": "Other",
        "ruby": "Other",
        "script": "ScriptMagics",
        "sh": "Other",
        "svg": "DisplayMagics",
        "sx": "OSMagics",
        "system": "OSMagics",
        "time": "ExecutionMagics",
        "timeit": "ExecutionMagics",
        "writefile": "OSMagics"
       },
       "line": {
        "alias": "OSMagics",
        "alias_magic": "BasicMagics",
        "autoawait": "AsyncMagics",
        "autocall": "AutoMagics",
        "automagic": "AutoMagics",
        "autosave": "KernelMagics",
        "bookmark": "OSMagics",
        "cd": "OSMagics",
        "clear": "KernelMagics",
        "cls": "KernelMagics",
        "colors": "BasicMagics",
        "conda": "PackagingMagics",
        "config": "ConfigMagics",
        "connect_info": "KernelMagics",
        "copy": "Other",
        "ddir": "Other",
        "debug": "ExecutionMagics",
        "dhist": "OSMagics",
        "dirs": "OSMagics",
        "doctest_mode": "BasicMagics",
        "echo": "Other",
        "ed": "Other",
        "edit": "KernelMagics",
        "env": "OSMagics",
        "gui": "BasicMagics",
        "hist": "Other",
        "history": "HistoryMagics",
        "killbgscripts": "ScriptMagics",
        "ldir": "Other",
        "less": "KernelMagics",
        "load": "CodeMagics",
        "load_ext": "ExtensionMagics",
        "loadpy": "CodeMagics",
        "logoff": "LoggingMagics",
        "logon": "LoggingMagics",
        "logstart": "LoggingMagics",
        "logstate": "LoggingMagics",
        "logstop": "LoggingMagics",
        "ls": "Other",
        "lsmagic": "BasicMagics",
        "macro": "ExecutionMagics",
        "magic": "BasicMagics",
        "matplotlib": "PylabMagics",
        "mkdir": "Other",
        "more": "KernelMagics",
        "notebook": "BasicMagics",
        "page": "BasicMagics",
        "pastebin": "CodeMagics",
        "pdb": "ExecutionMagics",
        "pdef": "NamespaceMagics",
        "pdoc": "NamespaceMagics",
        "pfile": "NamespaceMagics",
        "pinfo": "NamespaceMagics",
        "pinfo2": "NamespaceMagics",
        "pip": "PackagingMagics",
        "popd": "OSMagics",
        "pprint": "BasicMagics",
        "precision": "BasicMagics",
        "prun": "ExecutionMagics",
        "psearch": "NamespaceMagics",
        "psource": "NamespaceMagics",
        "pushd": "OSMagics",
        "pwd": "OSMagics",
        "pycat": "OSMagics",
        "pylab": "PylabMagics",
        "qtconsole": "KernelMagics",
        "quickref": "BasicMagics",
        "recall": "HistoryMagics",
        "rehashx": "OSMagics",
        "reload_ext": "ExtensionMagics",
        "ren": "Other",
        "rep": "Other",
        "rerun": "HistoryMagics",
        "reset": "NamespaceMagics",
        "reset_selective": "NamespaceMagics",
        "rmdir": "Other",
        "run": "ExecutionMagics",
        "save": "CodeMagics",
        "sc": "OSMagics",
        "set_env": "OSMagics",
        "store": "StoreMagics",
        "sx": "OSMagics",
        "system": "OSMagics",
        "tb": "ExecutionMagics",
        "time": "ExecutionMagics",
        "timeit": "ExecutionMagics",
        "unalias": "OSMagics",
        "unload_ext": "ExtensionMagics",
        "who": "NamespaceMagics",
        "who_ls": "NamespaceMagics",
        "whos": "NamespaceMagics",
        "xdel": "NamespaceMagics",
        "xmode": "BasicMagics"
       }
      },
      "text/plain": [
       "Available line magics:\n",
       "%alias  %alias_magic  %autoawait  %autocall  %automagic  %autosave  %bookmark  %cd  %clear  %cls  %colors  %conda  %config  %connect_info  %copy  %ddir  %debug  %dhist  %dirs  %doctest_mode  %echo  %ed  %edit  %env  %gui  %hist  %history  %killbgscripts  %ldir  %less  %load  %load_ext  %loadpy  %logoff  %logon  %logstart  %logstate  %logstop  %ls  %lsmagic  %macro  %magic  %matplotlib  %mkdir  %more  %notebook  %page  %pastebin  %pdb  %pdef  %pdoc  %pfile  %pinfo  %pinfo2  %pip  %popd  %pprint  %precision  %prun  %psearch  %psource  %pushd  %pwd  %pycat  %pylab  %qtconsole  %quickref  %recall  %rehashx  %reload_ext  %ren  %rep  %rerun  %reset  %reset_selective  %rmdir  %run  %save  %sc  %set_env  %store  %sx  %system  %tb  %time  %timeit  %unalias  %unload_ext  %who  %who_ls  %whos  %xdel  %xmode\n",
       "\n",
       "Available cell magics:\n",
       "%%!  %%HTML  %%SVG  %%bash  %%capture  %%cmd  %%debug  %%file  %%html  %%javascript  %%js  %%latex  %%markdown  %%perl  %%prun  %%pypy  %%python  %%python2  %%python3  %%ruby  %%script  %%sh  %%svg  %%sx  %%system  %%time  %%timeit  %%writefile\n",
       "\n",
       "Automagic is ON, % prefix IS NOT needed for line magics."
      ]
     },
     "execution_count": 7,
     "metadata": {},
     "output_type": "execute_result"
    }
   ],
   "source": [
    "%lsmagic"
   ]
  },
  {
   "cell_type": "code",
   "execution_count": 8,
   "id": "8686087c",
   "metadata": {},
   "outputs": [],
   "source": [
    "%time?"
   ]
  },
  {
   "cell_type": "code",
   "execution_count": 9,
   "id": "6d56d84d",
   "metadata": {},
   "outputs": [
    {
     "name": "stdout",
     "output_type": "stream",
     "text": [
      "Wall time: 7.65 ms\n"
     ]
    }
   ],
   "source": [
    "%time for i in range(11202): i+i\n",
    "                       \n",
    "            \n",
    "               "
   ]
  },
  {
   "cell_type": "code",
   "execution_count": 10,
   "id": "d35bd4d8",
   "metadata": {},
   "outputs": [
    {
     "data": {
      "text/plain": [
       "['C:\\\\Users\\\\HP']"
      ]
     },
     "execution_count": 10,
     "metadata": {},
     "output_type": "execute_result"
    }
   ],
   "source": [
    "%system cd"
   ]
  },
  {
   "cell_type": "code",
   "execution_count": null,
   "id": "8c4501df",
   "metadata": {},
   "outputs": [],
   "source": []
  },
  {
   "cell_type": "code",
   "execution_count": null,
   "id": "e7296062",
   "metadata": {},
   "outputs": [],
   "source": []
  },
  {
   "cell_type": "code",
   "execution_count": 11,
   "id": "480a7181",
   "metadata": {},
   "outputs": [
    {
     "name": "stdout",
     "output_type": "stream",
     "text": [
      " Volume in drive C has no label.\n",
      " Volume Serial Number is BAD4-EF15\n",
      "\n",
      " Directory of C:\\Users\\HP\n",
      "\n",
      "31-10-2021  19:44    <DIR>          .\n",
      "31-10-2021  19:44    <DIR>          ..\n",
      "21-09-2021  12:57    <DIR>          .anaconda\n",
      "21-09-2021  13:49    <DIR>          .conda\n",
      "21-09-2021  12:58                25 .condarc\n",
      "21-09-2021  12:57    <DIR>          .continuum\n",
      "14-04-2021  14:16    <DIR>          .idlerc\n",
      "31-10-2021  18:49    <DIR>          .ipynb_checkpoints\n",
      "21-03-2021  11:44    <DIR>          .ipython\n",
      "21-09-2021  10:08    <DIR>          .jupyter\n",
      "23-10-2021  21:49    <DIR>          .keras\n",
      "21-03-2021  11:53    <DIR>          .matplotlib\n",
      "21-03-2021  11:10    <DIR>          .vscode\n",
      "23-04-2021  21:25    <DIR>          1\n",
      "11-03-2021  10:48    <DIR>          3D Objects\n",
      "13-05-2021  19:40             2,438 50_Startups.csv\n",
      "16-10-2021  23:44             1,972 add_pipe.ipynb\n",
      "25-10-2021  22:26           391,594 Bangalore_ houseprice_prediction.ipynb\n",
      "11-03-2021  10:48    <DIR>          Contacts\n",
      "25-09-2021  23:25             4,151 converting txt file to csv file.ipynb\n",
      "24-10-2021  18:58         3,411,511 Customer churn prediction using ANN.ipynb\n",
      "30-10-2021  19:00    <DIR>          Desktop\n",
      "21-08-2021  12:22    <DIR>          Documents\n",
      "01-11-2021  10:21    <DIR>          Downloads\n",
      "21-09-2021  21:02           406,940 EDA using Python.ipynb\n",
      "11-03-2021  10:48    <DIR>          Favorites\n",
      "31-10-2021  19:44             8,082 Feature Selection- Dropping constant feature.ipynb\n",
      "04-10-2021  12:40             1,135 Handle Large Datasets In Pandas.ipynb\n",
      "23-04-2021  21:25    <DIR>          Learning\n",
      "11-03-2021  10:48    <DIR>          Links\n",
      "05-10-2021  21:11         2,966,521 Matplotlib_codebasics.ipynb\n",
      "11-03-2021  10:48    <DIR>          Music\n",
      "21-09-2021  13:45            58,030 myfirstnotebook.ipynb\n",
      "29-09-2021  22:57         1,130,540 Numpy_Codebasics .ipynb\n",
      "24-09-2021  19:34             1,456 nyc_weather.csv\n",
      "10-08-2021  20:15    <DIR>          OneDrive\n",
      "30-09-2021  18:44        12,966,476 Pandas_Codebasics.ipynb\n",
      "04-10-2021  11:52         6,272,908 Pandas_Time_series.ipynb\n",
      "11-03-2021  10:49    <DIR>          Pictures\n",
      "20-09-2021  13:03    <DIR>          PycharmProjects\n",
      "11-03-2021  10:48    <DIR>          Saved Games\n",
      "25-10-2021  00:46         3,686,949 Seaborn Learning.ipynb\n",
      "08-10-2021  10:55    <DIR>          seaborn-data\n",
      "31-03-2021  20:26    <DIR>          Searches\n",
      "23-04-2021  21:25    <DIR>          Semester\n",
      "18-10-2021  17:00         1,607,060 SpaCy learning.ipynb\n",
      "26-09-2021  18:01             6,145 stocks_weather.xlsx\n",
      "08-10-2021  19:17            42,601 Trial_Notebook.ipynb\n",
      "23-10-2021  21:45            15,317 Untitled.ipynb\n",
      "21-09-2021  10:23             2,717 Untitled1.ipynb\n",
      "24-10-2021  12:27             1,726 Untitled2.ipynb\n",
      "21-05-2021  12:14    <DIR>          Videos\n",
      "19-10-2021  23:53         1,578,861 Zomato_EDA.ipynb\n",
      "              23 File(s)     34,565,155 bytes\n",
      "              30 Dir(s)  384,965,574,656 bytes free\n"
     ]
    }
   ],
   "source": [
    "!dir"
   ]
  },
  {
   "cell_type": "code",
   "execution_count": 12,
   "id": "dd815769",
   "metadata": {},
   "outputs": [
    {
     "name": "stdout",
     "output_type": "stream",
     "text": [
      "Wall time: 0 ns\n"
     ]
    }
   ],
   "source": [
    "%time"
   ]
  },
  {
   "cell_type": "code",
   "execution_count": 13,
   "id": "8b444835",
   "metadata": {},
   "outputs": [],
   "source": [
    "%system?"
   ]
  },
  {
   "cell_type": "code",
   "execution_count": 14,
   "id": "66f56284",
   "metadata": {},
   "outputs": [
    {
     "data": {
      "text/plain": [
       "<AxesSubplot:xlabel='Date'>"
      ]
     },
     "execution_count": 14,
     "metadata": {},
     "output_type": "execute_result"
    },
    {
     "data": {
      "image/png": "[encoded data removed]",
      "text/plain": [
       "<Figure size 432x288 with 1 Axes>"
      ]
     },
     "metadata": {},
     "output_type": "display_data"
    }
   ],
   "source": [
    "f.plot.bar(y=\"Volume\")"
   ]
  }
 ],
 "metadata": {
  "kernelspec": {
   "display_name": "Python 3",
   "language": "python",
   "name": "python3"
  },
  "language_info": {
   "codemirror_mode": {
    "name": "ipython",
    "version": 3
   },
   "file_extension": ".py",
   "mimetype": "text/x-python",
   "name": "python",
   "nbconvert_exporter": "python",
   "pygments_lexer": "ipython3",
   "version": "3.8.8"
  }
 },
 "nbformat": 4,
 "nbformat_minor": 5
}
