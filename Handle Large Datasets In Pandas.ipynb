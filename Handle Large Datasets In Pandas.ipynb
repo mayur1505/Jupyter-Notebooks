{
 "cells": [
  {
   "cell_type": "markdown",
   "id": "69aa17d7",
   "metadata": {},
   "source": [
    "### Python Pandas Tutorial 15. Handle Large Datasets In Pandas | Memory Optimization Tips For Pandas"
   ]
  },
  {
   "cell_type": "markdown",
   "id": "60835da2",
   "metadata": {},
   "source": [
    "Often datasets that we load in pandas are very big and we may run out of memory. In this lecture we will cover some memory optimization tips in pandas.\n",
    "  \n",
    "For reducing memory usage in pandas we will refer below article  \n",
    "https://pythonspeed.com/   \n",
    "https://pythonspeed.com/memory/   \n",
    "https://pythonspeed.com/articles/pandas-load-less-data/\n"
   ]
  }
 ],
 "metadata": {
  "kernelspec": {
   "display_name": "Python 3",
   "language": "python",
   "name": "python3"
  },
  "language_info": {
   "codemirror_mode": {
    "name": "ipython",
    "version": 3
   },
   "file_extension": ".py",
   "mimetype": "text/x-python",
   "name": "python",
   "nbconvert_exporter": "python",
   "pygments_lexer": "ipython3",
   "version": "3.8.8"
  }
 },
 "nbformat": 4,
 "nbformat_minor": 5
}
