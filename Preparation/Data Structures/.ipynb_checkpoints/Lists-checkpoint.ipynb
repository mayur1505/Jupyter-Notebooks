{
 "cells": [
  {
   "cell_type": "markdown",
   "id": "347d4158",
   "metadata": {},
   "source": [
    "# Lists"
   ]
  },
  {
   "cell_type": "markdown",
   "id": "a85b559d",
   "metadata": {},
   "source": [
    "### Data Structure:\n",
    "\n",
    "A data structure is a collection of data elements (such as numbers or characters - or even other data structures) that is strctured in some way, for example, by numbering the elements. The most basic data structure in python is the \"sequence\".\n",
    "\n",
    "-> List is one of the Sequence Data Structure\n",
    "\n",
    "-> Lists are collection of items (strings, integers or even other lists)\n",
    "\n",
    "-> Lists are enclosed in []\n",
    "\n",
    "-> Each item in list has a assigned index value.\n",
    "\n",
    "-> Each item in a list is separated by a comma.\n",
    "\n",
    "-> Lists are mutable, which means they can be changed.\n",
    "\n"
   ]
  },
  {
   "cell_type": "markdown",
   "id": "bd2c7cb4",
   "metadata": {},
   "source": [
    "# List Creation"
   ]
  },
  {
   "cell_type": "code",
   "execution_count": 5,
   "id": "99feecd1",
   "metadata": {},
   "outputs": [
    {
     "name": "stdout",
     "output_type": "stream",
     "text": [
      "[1, 'ramu', 25, 1.24]\n"
     ]
    }
   ],
   "source": [
    "emptyList = []\n",
    "\n",
    "lst=['one','two','three','four']#list of strings\n",
    "\n",
    "lst2= [1,2,3,4] #list of integers\n",
    "\n",
    "lst3=[[1,2],[3,4]] #list of lists\n",
    "\n",
    "lst4=[1,'ramu',25,1.24]#list of different datatypes\n",
    "\n",
    "print(lst4)"
   ]
  },
  {
   "cell_type": "markdown",
   "id": "0e543e7a",
   "metadata": {},
   "source": [
    "# List length"
   ]
  },
  {
   "cell_type": "code",
   "execution_count": 8,
   "id": "9337eebb",
   "metadata": {},
   "outputs": [
    {
     "name": "stdout",
     "output_type": "stream",
     "text": [
      "4\n"
     ]
    }
   ],
   "source": [
    "lst=['one','two','three','four']\n",
    "\n",
    "#find length of a list (len is a function which will operate on list and will the length of a list)\n",
    "print(len(lst))"
   ]
  },
  {
   "cell_type": "markdown",
   "id": "be2c491b",
   "metadata": {},
   "source": [
    "# List Append"
   ]
  },
  {
   "cell_type": "code",
   "execution_count": 9,
   "id": "407dd95d",
   "metadata": {},
   "outputs": [
    {
     "name": "stdout",
     "output_type": "stream",
     "text": [
      "['one', 'two', 'three', 'four', 'five']\n"
     ]
    }
   ],
   "source": [
    "lst=['one','two','three','four']\n",
    "\n",
    "lst.append(\"five\") # append will add the item at the end\n",
    "\n",
    "print(lst)"
   ]
  },
  {
   "cell_type": "markdown",
   "id": "c780dd64",
   "metadata": {},
   "source": [
    "# List Insert"
   ]
  },
  {
   "cell_type": "code",
   "execution_count": 10,
   "id": "b81bac18",
   "metadata": {},
   "outputs": [
    {
     "name": "stdout",
     "output_type": "stream",
     "text": [
      "['one', 'two', 'three', 'four']\n"
     ]
    }
   ],
   "source": [
    "lst=['one','two','four']\n",
    "\n",
    "lst.insert(2,\"three\") #will add element y at location x\n",
    "\n",
    "print(lst)\n"
   ]
  },
  {
   "cell_type": "markdown",
   "id": "46ea1be2",
   "metadata": {},
   "source": [
    "# List Remove"
   ]
  },
  {
   "cell_type": "code",
   "execution_count": 13,
   "id": "55e74e02",
   "metadata": {},
   "outputs": [
    {
     "name": "stdout",
     "output_type": "stream",
     "text": [
      "['one', 'three', 'four', 'two']\n"
     ]
    }
   ],
   "source": [
    "lst=['one','two','three','four','two']\n",
    "\n",
    "lst.remove('two') #it will remove first occurence of 'two' in a give list\n",
    "\n",
    "print(lst)\n"
   ]
  },
  {
   "cell_type": "markdown",
   "id": "40e1e343",
   "metadata": {},
   "source": [
    "# List Append & Extend"
   ]
  },
  {
   "cell_type": "code",
   "execution_count": 14,
   "id": "15d868b1",
   "metadata": {},
   "outputs": [
    {
     "name": "stdout",
     "output_type": "stream",
     "text": [
      "['one', 'two', 'three', 'four', ['five', 'six']]\n"
     ]
    }
   ],
   "source": [
    "lst=['one','two','three','four']\n",
    "\n",
    "lst2=['five','six']\n",
    "\n",
    "#append\n",
    "lst.append(lst2) #this will be added as a list\n",
    "\n",
    "print(lst)"
   ]
  },
  {
   "cell_type": "code",
   "execution_count": 15,
   "id": "2a9c49c7",
   "metadata": {},
   "outputs": [
    {
     "name": "stdout",
     "output_type": "stream",
     "text": [
      "['one', 'two', 'three', 'four', 'five', 'six']\n"
     ]
    }
   ],
   "source": [
    "lst=['one','two','three','four']\n",
    "\n",
    "lst2=['five','six']\n",
    "\n",
    "#append\n",
    "lst.extend(lst2) # this will be added as elements\n",
    "\n",
    "print(lst)"
   ]
  },
  {
   "cell_type": "markdown",
   "id": "a32e032e",
   "metadata": {},
   "source": [
    "# List Delete"
   ]
  },
  {
   "cell_type": "code",
   "execution_count": 18,
   "id": "dab0d924",
   "metadata": {},
   "outputs": [
    {
     "name": "stdout",
     "output_type": "stream",
     "text": [
      "['one', 'three', 'four', 'five']\n",
      "three\n",
      "['one', 'four', 'five']\n"
     ]
    }
   ],
   "source": [
    "#del to remove item bases on index position\n",
    "\n",
    "lst=['one','two','three','four','five']\n",
    "\n",
    "del lst[1]\n",
    "print(lst)\n",
    "\n",
    "#or we can use pop() method\n",
    "\n",
    "a = lst.pop(1) #pop method will returen the item , we can store that in variable\n",
    "print(a)\n",
    "\n",
    "print(lst)\n"
   ]
  },
  {
   "cell_type": "code",
   "execution_count": 20,
   "id": "0e56d610",
   "metadata": {},
   "outputs": [
    {
     "name": "stdout",
     "output_type": "stream",
     "text": [
      "['one', 'two', 'four']\n"
     ]
    }
   ],
   "source": [
    "lst=['one','two','three','four']\n",
    "\n",
    "#remove an item from list\n",
    "\n",
    "lst.remove(\"three\")#we are passing element here which needs to be removed\n",
    "\n",
    "print(lst)"
   ]
  },
  {
   "cell_type": "markdown",
   "id": "8d5490dd",
   "metadata": {},
   "source": [
    "# List related keywords in python"
   ]
  },
  {
   "cell_type": "code",
   "execution_count": 21,
   "id": "b7cacdb2",
   "metadata": {},
   "outputs": [
    {
     "name": "stdout",
     "output_type": "stream",
     "text": [
      "AI\n",
      "ML\n"
     ]
    }
   ],
   "source": [
    "#keyword 'in' is used to test if an item is in list\n",
    "\n",
    "lst=['one','two','three','four']\n",
    "\n",
    "if 'two' in lst:\n",
    "    print('AI')\n",
    "    \n",
    "#keyword 'not' can combined with 'in'\n",
    "if 'six' not in lst:\n",
    "    print('ML')"
   ]
  },
  {
   "cell_type": "markdown",
   "id": "b54e5ab8",
   "metadata": {},
   "source": [
    "# List Reverse"
   ]
  },
  {
   "cell_type": "code",
   "execution_count": 23,
   "id": "4bc9673d",
   "metadata": {},
   "outputs": [
    {
     "name": "stdout",
     "output_type": "stream",
     "text": [
      "['four', 'three', 'two', 'one']\n"
     ]
    }
   ],
   "source": [
    "lst=['one','two','three','four']\n",
    "\n",
    "lst.reverse()\n",
    "\n",
    "print(lst)"
   ]
  },
  {
   "cell_type": "markdown",
   "id": "dab8f599",
   "metadata": {},
   "source": [
    "# List Sorting"
   ]
  },
  {
   "cell_type": "markdown",
   "id": "6071d8a4",
   "metadata": {},
   "source": [
    "The easiest way to sort a list is with the sorted(list) function.\n",
    "\n",
    "That takes a list and returns a new list with those elements in sorted order.\n",
    "\n",
    "The original list is not changed.\n",
    "\n",
    "The sorted() optional argument reverse=True, e.g. sorted(list, reverse=True), makes it sort backwards"
   ]
  },
  {
   "cell_type": "code",
   "execution_count": 24,
   "id": "fb8596f2",
   "metadata": {},
   "outputs": [
    {
     "name": "stdout",
     "output_type": "stream",
     "text": [
      "Sorted list : [1, 2, 3, 6, 8]\n",
      "Original list : [3, 1, 6, 2, 8]\n"
     ]
    }
   ],
   "source": [
    "#create a list with numbers\n",
    "\n",
    "numbers=[3,1,6,2,8]\n",
    "\n",
    "sorted_lst = sorted(numbers)\n",
    "\n",
    "print(\"Sorted list :\", sorted_lst)\n",
    "\n",
    "#original list remain unchanged\n",
    "print(\"Original list :\",numbers)\n"
   ]
  },
  {
   "cell_type": "code",
   "execution_count": 26,
   "id": "dc853aa5",
   "metadata": {},
   "outputs": [
    {
     "name": "stdout",
     "output_type": "stream",
     "text": [
      "Reverse Sorted list : [8, 6, 3, 2, 1]\n",
      "Original list : [3, 1, 6, 2, 8]\n"
     ]
    }
   ],
   "source": [
    "print(\"Reverse Sorted list :\", sorted(numbers, reverse=True))\n",
    "\n",
    "#original list remain unchanged\n",
    "print(\"Original list :\",numbers)"
   ]
  },
  {
   "cell_type": "code",
   "execution_count": 29,
   "id": "a60b3c1f",
   "metadata": {},
   "outputs": [
    {
     "name": "stdout",
     "output_type": "stream",
     "text": [
      "sorted list: [1, 4.2, 5, 5, 20]\n"
     ]
    }
   ],
   "source": [
    "lst = [1,20,5,5,4.2]\n",
    "\n",
    "#sort the list and store in the same list\n",
    "\n",
    "lst.sort()#different than sorted() funtion\n",
    "\n",
    "#add element 'a' to the list  to show an error\n",
    "\n",
    "print(\"sorted list:\", lst)"
   ]
  },
  {
   "cell_type": "code",
   "execution_count": 31,
   "id": "3b7ed931",
   "metadata": {},
   "outputs": [],
   "source": [
    "# lst = [1,20,'b',5,4.2,'a']\n",
    "\n",
    "# print(lst.sort())#as we can't compare string and int, so this sort will not happen\n",
    "\n",
    "#output: TypeError: '<' not supported between instances of 'str' and 'int'"
   ]
  },
  {
   "cell_type": "markdown",
   "id": "ad1f9c76",
   "metadata": {},
   "source": [
    "# List having multiple references"
   ]
  },
  {
   "cell_type": "code",
   "execution_count": 33,
   "id": "2dd4f697",
   "metadata": {},
   "outputs": [
    {
     "name": "stdout",
     "output_type": "stream",
     "text": [
      "Original List [1, 2, 3, 4, 5, 6]\n"
     ]
    }
   ],
   "source": [
    "lst = [1,2,3,4,5]\n",
    "abc=lst #abc will point to same memory location of lst\n",
    "abc.append(6) #lst will also get modified \n",
    "#abc and lst will become two different reference for same memory location\n",
    "\n",
    "#print original list\n",
    "print(\"Original List\", lst)"
   ]
  },
  {
   "cell_type": "markdown",
   "id": "dc4c5e74",
   "metadata": {},
   "source": [
    "# String split to create  a list"
   ]
  },
  {
   "cell_type": "code",
   "execution_count": 34,
   "id": "381be633",
   "metadata": {},
   "outputs": [
    {
     "name": "stdout",
     "output_type": "stream",
     "text": [
      "['one', 'two', 'three', 'four', 'five']\n"
     ]
    }
   ],
   "source": [
    "#let's take a string\n",
    "s = 'one,two,three,four,five'\n",
    "\n",
    "slst=s.split(',')\n",
    "print(slst)\n"
   ]
  },
  {
   "cell_type": "code",
   "execution_count": 35,
   "id": "55eb100c",
   "metadata": {},
   "outputs": [
    {
     "name": "stdout",
     "output_type": "stream",
     "text": [
      "['Hi', 'I', 'am', 'Mayur', 'Shimpi']\n"
     ]
    }
   ],
   "source": [
    "s = \"Hi I am Mayur Shimpi\"\n",
    "split_lst=s.split()#default split is white-character : space or tab\n",
    "print(split_lst)"
   ]
  },
  {
   "cell_type": "markdown",
   "id": "3d3ceeff",
   "metadata": {},
   "source": [
    "# List Indexing"
   ]
  },
  {
   "cell_type": "markdown",
   "id": "7358a608",
   "metadata": {},
   "source": [
    "Each Item in the list has an assigned index value starting from 0.\n",
    "\n",
    "Accessing elements in a list is called indexing."
   ]
  },
  {
   "cell_type": "code",
   "execution_count": 2,
   "id": "8c9aa982",
   "metadata": {},
   "outputs": [
    {
     "name": "stdout",
     "output_type": "stream",
     "text": [
      "2\n",
      "4\n"
     ]
    }
   ],
   "source": [
    "lst = [1,2,3,4]\n",
    "print(lst[1]) #print second element\n",
    "\n",
    "#print last element using negative index\n",
    "print(lst[-1])"
   ]
  },
  {
   "cell_type": "markdown",
   "id": "3f2dde71",
   "metadata": {},
   "source": [
    " # List Slicing"
   ]
  },
  {
   "cell_type": "markdown",
   "id": "ed8aa778",
   "metadata": {},
   "source": [
    "Accessing parts of segments is called slicing.\n",
    "\n",
    "The key point to remember is that  :end value represents the first value that is not in the selected slice."
   ]
  },
  {
   "cell_type": "code",
   "execution_count": 3,
   "id": "feb57a7a",
   "metadata": {},
   "outputs": [
    {
     "name": "stdout",
     "output_type": "stream",
     "text": [
      "[10, 20, 30, 40, 50, 60, 70, 80]\n",
      "[10, 20, 30, 40]\n"
     ]
    }
   ],
   "source": [
    "num = [10,20,30,40,50,60,70,80]\n",
    "\n",
    "#print all numbers\n",
    "print(num[:])\n",
    "\n",
    "#print from index 0 to index 3\n",
    "print(num[0:4]) #this will start from 0 and will end on 4-1 i.e 3 (end-1)"
   ]
  },
  {
   "cell_type": "code",
   "execution_count": 4,
   "id": "6043d6f4",
   "metadata": {},
   "outputs": [
    {
     "name": "stdout",
     "output_type": "stream",
     "text": [
      "[10, 20, 30, 40, 50, 60, 70, 80]\n",
      "[10, 30, 50, 70]\n",
      "[10, 40, 70]\n"
     ]
    }
   ],
   "source": [
    "print(num)\n",
    "#print alternate elements in a list\n",
    "print(num[::2])  # num[start:end:stepsize] so here 2 is step size\n",
    "#print elements by skiping two immediate elemetns\n",
    "print(num[::3])"
   ]
  },
  {
   "cell_type": "code",
   "execution_count": 5,
   "id": "24eab137",
   "metadata": {},
   "outputs": [
    {
     "name": "stdout",
     "output_type": "stream",
     "text": [
      "[30, 50, 70]\n"
     ]
    }
   ],
   "source": [
    "print(num[2::2]) #start index 2 and with step size 2"
   ]
  },
  {
   "cell_type": "markdown",
   "id": "78653bd8",
   "metadata": {},
   "source": [
    "# List extend using \"+\""
   ]
  },
  {
   "cell_type": "code",
   "execution_count": 1,
   "id": "4c045f82",
   "metadata": {},
   "outputs": [
    {
     "name": "stdout",
     "output_type": "stream",
     "text": [
      "[1, 2, 3, 4, 'varma', 'naveen', 'murali', 'brahma']\n"
     ]
    }
   ],
   "source": [
    "lst1=[1,2,3,4]\n",
    "lst2=['varma','naveen','murali','brahma']\n",
    "new_lst=lst1+lst2\n",
    "\n",
    "print(new_lst)"
   ]
  },
  {
   "cell_type": "markdown",
   "id": "cfe84f29",
   "metadata": {},
   "source": [
    "# List Cout"
   ]
  },
  {
   "cell_type": "code",
   "execution_count": 4,
   "id": "f4e67d2b",
   "metadata": {},
   "outputs": [
    {
     "name": "stdout",
     "output_type": "stream",
     "text": [
      "2\n",
      "3\n"
     ]
    }
   ],
   "source": [
    "numbers=[1,2,3,1,3,4,2,5,2]\n",
    "\n",
    "#frequency of 1 in a list\n",
    "print(numbers.count(1))\n",
    "\n",
    "#frequency of 2 in a list\n",
    "print(numbers.count(2))\n"
   ]
  },
  {
   "cell_type": "markdown",
   "id": "736a41ee",
   "metadata": {},
   "source": [
    "# List Looping"
   ]
  },
  {
   "cell_type": "code",
   "execution_count": 5,
   "id": "34a9a2fa",
   "metadata": {},
   "outputs": [
    {
     "name": "stdout",
     "output_type": "stream",
     "text": [
      "one\n",
      "two\n",
      "three\n",
      "four\n"
     ]
    }
   ],
   "source": [
    "#loop through a list\n",
    "lst=['one','two','three','four']\n",
    "\n",
    "for ele in lst:\n",
    "    print(ele)"
   ]
  },
  {
   "cell_type": "markdown",
   "id": "cb423e88",
   "metadata": {},
   "source": [
    "# List Comprehensions"
   ]
  },
  {
   "cell_type": "markdown",
   "id": "6752782b",
   "metadata": {},
   "source": [
    "List Comprehensions provide a concise way to create lists.\n",
    "\n",
    "Common applications are to make new lists where each element is the result of some operations applied to each member of another sequence or iterable, or to create a subsequence of those elements that satisfy a certain condition."
   ]
  },
  {
   "cell_type": "code",
   "execution_count": 6,
   "id": "92e65b3d",
   "metadata": {},
   "outputs": [
    {
     "name": "stdout",
     "output_type": "stream",
     "text": [
      "[0, 1, 4, 9, 16, 25, 36, 49, 64, 81]\n"
     ]
    }
   ],
   "source": [
    "#without list comprehension\n",
    "squares=[]\n",
    "for i in range(10):\n",
    "    squares.append(i**2)   #list append\n",
    "print(squares)"
   ]
  },
  {
   "cell_type": "code",
   "execution_count": 7,
   "id": "c528f8aa",
   "metadata": {},
   "outputs": [
    {
     "name": "stdout",
     "output_type": "stream",
     "text": [
      "[0, 1, 4, 9, 16, 25, 36, 49, 64, 81]\n"
     ]
    }
   ],
   "source": [
    "#using list comprehension\n",
    "squares = [i**2 for i in range(10)]\n",
    "print(squares)"
   ]
  },
  {
   "cell_type": "code",
   "execution_count": 9,
   "id": "dd413529",
   "metadata": {},
   "outputs": [
    {
     "name": "stdout",
     "output_type": "stream",
     "text": [
      "[-20, -40, 20, 40, 100]\n",
      "[10, 20, 50]\n",
      "[(0, 0), (1, 1), (2, 4), (3, 9), (4, 16), (5, 25), (6, 36), (7, 49), (8, 64), (9, 81)]\n"
     ]
    }
   ],
   "source": [
    "#examples of list comprehensions\n",
    "\n",
    "lst = [-10, -20, 10, 20, 50]\n",
    "\n",
    "#create a new list with values doubled\n",
    "new_lst = [i*2 for i in lst]\n",
    "print(new_lst)\n",
    "\n",
    "#filter the list to exclude negative numbers\n",
    "new_lst=[i for i in lst if i>=0]\n",
    "print(new_lst)\n",
    "\n",
    "#create a list of tuples like (number, square_of_number)\n",
    "new_lst=[(i, i**2) for i in range(10)]\n",
    "print(new_lst)"
   ]
  },
  {
   "cell_type": "markdown",
   "id": "872ed418",
   "metadata": {},
   "source": [
    "# Nested List Comprehensions"
   ]
  },
  {
   "cell_type": "code",
   "execution_count": 13,
   "id": "7d7139bf",
   "metadata": {},
   "outputs": [
    {
     "name": "stdout",
     "output_type": "stream",
     "text": [
      "[[1, 5, 9], [2, 6, 10], [3, 7, 11], [4, 8, 12]]\n"
     ]
    }
   ],
   "source": [
    "#Let's supppose we have a matrix\n",
    "#we will make matrix as list of lists\n",
    "#where each row would be a separate list\n",
    "matrix=[\n",
    "    [1,2,3,4],\n",
    "    [5,6,7,8],\n",
    "    [9,10,11,12]\n",
    "]\n",
    "\n",
    "#transpose of a matrix without list comprehension\n",
    "transposed=[]\n",
    "for i in range(4):\n",
    "    lst=[]\n",
    "    for x in matrix:\n",
    "        lst.append(x[i])\n",
    "    transposed.append(lst)\n",
    "print(transposed)\n",
    "\n",
    "\n",
    "# Here's how it works step by step:\n",
    "\n",
    "# for x in matrix:: This loop iterates over each row (x) in the matrix.\n",
    "\n",
    "# lst.append(x[i]): This line appends the element in the current row (x) at the index i to the list lst. Since i represents the current column index, x[i] gives us the element in the current row (x) at the current column (i).\n",
    "\n",
    "# So, during each iteration of the outer loop (for i in range(4):), we are effectively traversing through each column of the matrix. And for each column, we go through each row to extract the corresponding element, forming a column-wise traversal of the matrix, which is a key step in transposing a matrix."
   ]
  },
  {
   "cell_type": "code",
   "execution_count": 17,
   "id": "ad8366fa",
   "metadata": {},
   "outputs": [
    {
     "name": "stdout",
     "output_type": "stream",
     "text": [
      "[[1, 5, 9], [2, 6, 10], [3, 7, 11], [4, 8, 12]]\n"
     ]
    }
   ],
   "source": [
    "#with list comprehension\n",
    "\n",
    "transposed = [[x[i] for x in matrix] for i in range(4)]\n",
    "print(transposed)"
   ]
  },
  {
   "cell_type": "code",
   "execution_count": null,
   "id": "38cc2ed2",
   "metadata": {},
   "outputs": [],
   "source": []
  },
  {
   "cell_type": "code",
   "execution_count": null,
   "id": "de4d91ad",
   "metadata": {},
   "outputs": [],
   "source": []
  },
  {
   "cell_type": "code",
   "execution_count": null,
   "id": "dc3cb800",
   "metadata": {},
   "outputs": [],
   "source": []
  },
  {
   "cell_type": "code",
   "execution_count": null,
   "id": "e99520ae",
   "metadata": {},
   "outputs": [],
   "source": []
  },
  {
   "cell_type": "code",
   "execution_count": null,
   "id": "b00bd795",
   "metadata": {},
   "outputs": [],
   "source": []
  },
  {
   "cell_type": "code",
   "execution_count": null,
   "id": "f04b0b81",
   "metadata": {},
   "outputs": [],
   "source": []
  },
  {
   "cell_type": "code",
   "execution_count": null,
   "id": "cff34fa4",
   "metadata": {},
   "outputs": [],
   "source": []
  },
  {
   "cell_type": "code",
   "execution_count": null,
   "id": "78352e40",
   "metadata": {},
   "outputs": [],
   "source": []
  },
  {
   "cell_type": "code",
   "execution_count": null,
   "id": "fce2ae2c",
   "metadata": {},
   "outputs": [],
   "source": []
  },
  {
   "cell_type": "code",
   "execution_count": null,
   "id": "6def6571",
   "metadata": {},
   "outputs": [],
   "source": []
  }
 ],
 "metadata": {
  "kernelspec": {
   "display_name": "Python 3",
   "language": "python",
   "name": "python3"
  },
  "language_info": {
   "codemirror_mode": {
    "name": "ipython",
    "version": 3
   },
   "file_extension": ".py",
   "mimetype": "text/x-python",
   "name": "python",
   "nbconvert_exporter": "python",
   "pygments_lexer": "ipython3",
   "version": "3.8.8"
  }
 },
 "nbformat": 4,
 "nbformat_minor": 5
}
