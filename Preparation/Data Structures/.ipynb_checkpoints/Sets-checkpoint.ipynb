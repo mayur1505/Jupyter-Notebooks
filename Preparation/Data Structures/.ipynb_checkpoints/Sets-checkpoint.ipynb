{
 "cells": [
  {
   "cell_type": "markdown",
   "id": "1b934df8",
   "metadata": {},
   "source": [
    "# Sets"
   ]
  },
  {
   "cell_type": "markdown",
   "id": "1f0447bf",
   "metadata": {},
   "source": [
    "-> A set is an unordered collection of items. Every element is unique (no duplicates)\n",
    "\n",
    "-> As set is unordered , so we cannot index it\n",
    "\n",
    "-> The set itself is mutable. We can add or remove items from it.\n",
    "\n",
    "-> Sets can be used to perform mathematical set oprations like union, intersection, summetric, difference etc."
   ]
  },
  {
   "cell_type": "markdown",
   "id": "c041b005",
   "metadata": {},
   "source": [
    "# Set Creation"
   ]
  },
  {
   "cell_type": "code",
   "execution_count": 4,
   "id": "538ba8aa",
   "metadata": {},
   "outputs": [
    {
     "name": "stdout",
     "output_type": "stream",
     "text": [
      "{1, 2, 3}\n",
      "<class 'set'>\n"
     ]
    }
   ],
   "source": [
    "#set of integers\n",
    "s = {1,2,3}  #set is a mathematical set and one element stores only once internally that's why duplicated are not allowd\n",
    "print(s)\n",
    "\n",
    "#print type of s\n",
    "print(type(s))"
   ]
  },
  {
   "cell_type": "code",
   "execution_count": 3,
   "id": "dc2a0354",
   "metadata": {},
   "outputs": [
    {
     "name": "stdout",
     "output_type": "stream",
     "text": [
      "{1, 2, 3, 4, 5}\n"
     ]
    }
   ],
   "source": [
    "#set does not allow duplicates, they store ony one instance.\n",
    "s = {1,2,3,1,4,5,3}\n",
    "print(s)"
   ]
  },
  {
   "cell_type": "code",
   "execution_count": 6,
   "id": "867c57af",
   "metadata": {},
   "outputs": [
    {
     "name": "stdout",
     "output_type": "stream",
     "text": [
      "{1, 2, 3, 4}\n"
     ]
    }
   ],
   "source": [
    "#set from a list\n",
    "s = set([1,2,3,4,1,2,3,4])\n",
    "print(s)"
   ]
  },
  {
   "cell_type": "code",
   "execution_count": 8,
   "id": "3f4d3b58",
   "metadata": {},
   "outputs": [
    {
     "name": "stdout",
     "output_type": "stream",
     "text": [
      "<class 'set'>\n"
     ]
    }
   ],
   "source": [
    "#initialize a set with set() method\n",
    "s = set()\n",
    "print(type(s))"
   ]
  },
  {
   "cell_type": "markdown",
   "id": "36578420",
   "metadata": {},
   "source": [
    "# Add element to a set"
   ]
  },
  {
   "cell_type": "code",
   "execution_count": 10,
   "id": "52b245ed",
   "metadata": {},
   "outputs": [],
   "source": [
    "# we can add single element using add() method and\n",
    "#add multiple elements using update() method\n",
    "\n",
    "s = {1,3}\n",
    "\n",
    "# set object doesn't support indexing\n",
    "#print(s[1]) #this will throw typeerror"
   ]
  },
  {
   "cell_type": "code",
   "execution_count": 11,
   "id": "8edc68da",
   "metadata": {},
   "outputs": [
    {
     "name": "stdout",
     "output_type": "stream",
     "text": [
      "{1, 2, 3}\n"
     ]
    }
   ],
   "source": [
    "#add element\n",
    "s.add(2)\n",
    "print(s)"
   ]
  },
  {
   "cell_type": "code",
   "execution_count": 12,
   "id": "4b5048cd",
   "metadata": {},
   "outputs": [
    {
     "name": "stdout",
     "output_type": "stream",
     "text": [
      "{1, 2, 3, 4, 5, 7}\n"
     ]
    }
   ],
   "source": [
    "#add multiple elements\n",
    "s.update([4,5,7])\n",
    "print(s)"
   ]
  },
  {
   "cell_type": "code",
   "execution_count": 13,
   "id": "3760901b",
   "metadata": {},
   "outputs": [
    {
     "name": "stdout",
     "output_type": "stream",
     "text": [
      "{1, 2, 3, 4, 5, 7, 8, 9, 10}\n"
     ]
    }
   ],
   "source": [
    "#add list and set\n",
    "s.update([8,9],{10,2,3})\n",
    "print(s)"
   ]
  },
  {
   "cell_type": "markdown",
   "id": "943d44ed",
   "metadata": {},
   "source": [
    "# Remove elements from a set"
   ]
  },
  {
   "cell_type": "code",
   "execution_count": 16,
   "id": "0a82058b",
   "metadata": {},
   "outputs": [
    {
     "name": "stdout",
     "output_type": "stream",
     "text": [
      "{1, 2, 3, 4, 5, 7, 8, 9, 10}\n",
      "{1, 2, 3, 5, 7, 8, 9, 10}\n"
     ]
    }
   ],
   "source": [
    "#a particular item can be removed from set using methods,\n",
    "#discard() and remove()\n",
    "s = {1, 2, 3, 4, 5, 7, 8, 9, 10}\n",
    "print(s)\n",
    "\n",
    "s.discard(4) #4 is removed from set s\n",
    "\n",
    "print(s)"
   ]
  },
  {
   "cell_type": "code",
   "execution_count": 17,
   "id": "02d50ebe",
   "metadata": {},
   "outputs": [
    {
     "data": {
      "text/plain": [
       "{1, 3, 5, 7, 8, 9, 10}"
      ]
     },
     "execution_count": 17,
     "metadata": {},
     "output_type": "execute_result"
    }
   ],
   "source": [
    "#remove an element\n",
    "s.remove(2)\n",
    "s"
   ]
  },
  {
   "cell_type": "code",
   "execution_count": 23,
   "id": "3fea5829",
   "metadata": {},
   "outputs": [],
   "source": [
    "#removing an element which is not present in set s\n",
    "#s.remove(11) #will throw keyerror"
   ]
  },
  {
   "cell_type": "code",
   "execution_count": 21,
   "id": "71019d8e",
   "metadata": {},
   "outputs": [
    {
     "name": "stdout",
     "output_type": "stream",
     "text": [
      "{1, 3, 5, 7, 8, 9, 10}\n"
     ]
    }
   ],
   "source": [
    "#discarding an element which is not present in set s\n",
    "s.discard(11) #11 is not present, but still it will not throw any error\n",
    "print(s)"
   ]
  },
  {
   "cell_type": "markdown",
   "id": "63c51825",
   "metadata": {},
   "source": [
    "In summary, if you're not sure whether an element exists in the set and you don't want to handle potential errors, you can use the discard() method. If you expect the element to always be in the set and want to raise an error if it's not, you can use the remove() method."
   ]
  },
  {
   "cell_type": "code",
   "execution_count": 31,
   "id": "88d4b109",
   "metadata": {},
   "outputs": [
    {
     "name": "stdout",
     "output_type": "stream",
     "text": [
      "{2, 3, 4, 5, 7, 8, 9, 10}\n"
     ]
    }
   ],
   "source": [
    "#we can remove item using pop() method\n",
    "s = {1, 2, 3, 4, 5, 7, 8, 9, 10}\n",
    "\n",
    "s.pop() #removes randomly one element\n",
    "\n",
    "print(s)\n"
   ]
  },
  {
   "cell_type": "code",
   "execution_count": 32,
   "id": "ebd9070b",
   "metadata": {},
   "outputs": [
    {
     "name": "stdout",
     "output_type": "stream",
     "text": [
      "{3, 4, 5, 7, 8, 9, 10}\n"
     ]
    }
   ],
   "source": [
    "s.pop()\n",
    "print(s)"
   ]
  },
  {
   "cell_type": "code",
   "execution_count": 33,
   "id": "cdad2573",
   "metadata": {},
   "outputs": [
    {
     "name": "stdout",
     "output_type": "stream",
     "text": [
      "set()\n"
     ]
    }
   ],
   "source": [
    "s = {1, 2, 3, 4, 5, 7, 8, 9, 10}\n",
    "\n",
    "s.clear() #remove all items in set using clear() method\n",
    "\n",
    "print(s)"
   ]
  },
  {
   "cell_type": "markdown",
   "id": "8c2af3c5",
   "metadata": {},
   "source": [
    "# Python Set Operations"
   ]
  },
  {
   "cell_type": "code",
   "execution_count": 35,
   "id": "222b113a",
   "metadata": {},
   "outputs": [
    {
     "name": "stdout",
     "output_type": "stream",
     "text": [
      "{1, 2, 3, 4, 5, 7, 9}\n"
     ]
    }
   ],
   "source": [
    "s1 = {1, 2, 3, 4,5}\n",
    "\n",
    "s2 = {5, 7, 3, 9, 1}\n",
    "\n",
    "#union of 2 sets using | operator  (| is OR operator)\n",
    "\n",
    "print(s1 | s2)\n"
   ]
  },
  {
   "cell_type": "code",
   "execution_count": 36,
   "id": "a6e07584",
   "metadata": {},
   "outputs": [
    {
     "name": "stdout",
     "output_type": "stream",
     "text": [
      "{1, 2, 3, 4, 5, 7, 9}\n"
     ]
    }
   ],
   "source": [
    "#union using another way\n",
    "print(s1.union(s2))"
   ]
  },
  {
   "cell_type": "code",
   "execution_count": 38,
   "id": "115e02b6",
   "metadata": {},
   "outputs": [
    {
     "name": "stdout",
     "output_type": "stream",
     "text": [
      "{1, 3, 5}\n"
     ]
    }
   ],
   "source": [
    "#intersection of 2 sets using & operator\n",
    "print(s1 & s2)"
   ]
  },
  {
   "cell_type": "code",
   "execution_count": 39,
   "id": "fb5f52df",
   "metadata": {},
   "outputs": [
    {
     "name": "stdout",
     "output_type": "stream",
     "text": [
      "{1, 3, 5}\n"
     ]
    }
   ],
   "source": [
    "#use of intersection function\n",
    "print(s1.intersection(s2))"
   ]
  },
  {
   "cell_type": "code",
   "execution_count": 41,
   "id": "bdcef304",
   "metadata": {},
   "outputs": [
    {
     "name": "stdout",
     "output_type": "stream",
     "text": [
      "{2, 4}\n"
     ]
    }
   ],
   "source": [
    "#set difference: set of elements that are only in set1 but not in set2\n",
    "\n",
    "print(s1-s2)"
   ]
  },
  {
   "cell_type": "code",
   "execution_count": 42,
   "id": "dc1810f0",
   "metadata": {},
   "outputs": [
    {
     "name": "stdout",
     "output_type": "stream",
     "text": [
      "{2, 4}\n"
     ]
    }
   ],
   "source": [
    "#use of difference function\n",
    "print(s1.difference(s2))"
   ]
  },
  {
   "cell_type": "markdown",
   "id": "2ed9fa3e",
   "metadata": {},
   "source": [
    "symmetric difference of two sets is a set containing elements that are in either of the sets, but not in their intersection. In simpler terms, it's the set of elements that are in one of the sets, but not in both."
   ]
  },
  {
   "cell_type": "code",
   "execution_count": 43,
   "id": "4c2e9afe",
   "metadata": {},
   "outputs": [
    {
     "name": "stdout",
     "output_type": "stream",
     "text": [
      "{2, 4, 7, 9}\n"
     ]
    }
   ],
   "source": [
    "#symmetric diff using ^ operator (exponent operator)\n",
    "print(s1^s2)"
   ]
  },
  {
   "cell_type": "code",
   "execution_count": 44,
   "id": "c519dac4",
   "metadata": {},
   "outputs": [
    {
     "name": "stdout",
     "output_type": "stream",
     "text": [
      "{2, 4, 7, 9}\n"
     ]
    }
   ],
   "source": [
    "#using symmetric_difference_function\n",
    "print(s1.symmetric_difference(s2))"
   ]
  },
  {
   "cell_type": "code",
   "execution_count": 46,
   "id": "269266eb",
   "metadata": {},
   "outputs": [
    {
     "name": "stdout",
     "output_type": "stream",
     "text": [
      "set 'x' is subset of 'y' ?  False\n",
      "set 'y' is subset of 'x' ?  True\n"
     ]
    }
   ],
   "source": [
    "#find issubset()\n",
    "x={'a','b','c','d','e'}\n",
    "y={'c','d'}\n",
    "\n",
    "print(\"set 'x' is subset of 'y' ? \", x.issubset(y)) #check x is subset of y\n",
    "print(\"set 'y' is subset of 'x' ? \", y.issubset(x))"
   ]
  },
  {
   "cell_type": "markdown",
   "id": "a1ed61c9",
   "metadata": {},
   "source": [
    "# Frozen Sets"
   ]
  },
  {
   "cell_type": "markdown",
   "id": "3423837c",
   "metadata": {},
   "source": [
    "    Frozen sets has the characteristics of sets, but it can't be changed once it's assigned. While Tuple are immutable lists, frozen sets are immutable sets\n",
    "\n",
    "    Frozensets can be created using the function frozenset()\n",
    "\n",
    "    Sets being mutable are unhashable, so they can't be used as dictionary keys. On the other hand, frozensets are hashable and can be used as keys to a dictionary.\n",
    "\n",
    "    This datatype supports methods like copy(), difference(), intersection(), isdisjoint(), issubset(), issuperset(), symmetric_difference() and union(). Being immutable it does not have method that add or remove elements."
   ]
  },
  {
   "cell_type": "code",
   "execution_count": 2,
   "id": "8a76ba1c",
   "metadata": {},
   "outputs": [],
   "source": [
    "s1 = frozenset([1, 2, 3, 4,5])\n",
    "\n",
    "s2 = frozenset([5, 7, 3, 9, 1])\n",
    "\n",
    "#try to add element into s1 gives an error\n",
    "#s1.add(5) #AttributeError: 'frozenset' object has no attribute 'add'"
   ]
  },
  {
   "cell_type": "code",
   "execution_count": 4,
   "id": "bcc60b8f",
   "metadata": {},
   "outputs": [],
   "source": [
    "#print(s1[1]) #frozen set does not support indexing"
   ]
  },
  {
   "cell_type": "code",
   "execution_count": 5,
   "id": "32ab6350",
   "metadata": {},
   "outputs": [
    {
     "name": "stdout",
     "output_type": "stream",
     "text": [
      "frozenset({1, 2, 3, 4, 5, 7, 9})\n"
     ]
    }
   ],
   "source": [
    "print(s1 | s2) #union of 2 sets"
   ]
  },
  {
   "cell_type": "code",
   "execution_count": 6,
   "id": "8d4873f8",
   "metadata": {},
   "outputs": [
    {
     "name": "stdout",
     "output_type": "stream",
     "text": [
      "frozenset({1, 3, 5})\n",
      "frozenset({1, 3, 5})\n"
     ]
    }
   ],
   "source": [
    "#intersection of two sets \n",
    "print(s1 & s2)\n",
    "\n",
    "#or\n",
    "print(s1.intersection(s2))"
   ]
  },
  {
   "cell_type": "code",
   "execution_count": 8,
   "id": "bd987ccc",
   "metadata": {},
   "outputs": [
    {
     "name": "stdout",
     "output_type": "stream",
     "text": [
      "frozenset({2, 4, 7, 9})\n",
      "frozenset({2, 4, 7, 9})\n"
     ]
    }
   ],
   "source": [
    "#symmetric diff\n",
    "print(s1^s2)\n",
    "\n",
    "#or\n",
    "print(s1.symmetric_difference(s2))"
   ]
  },
  {
   "cell_type": "code",
   "execution_count": null,
   "id": "1f6bda42",
   "metadata": {},
   "outputs": [],
   "source": []
  },
  {
   "cell_type": "code",
   "execution_count": null,
   "id": "6fb72e2c",
   "metadata": {},
   "outputs": [],
   "source": []
  },
  {
   "cell_type": "code",
   "execution_count": null,
   "id": "0a3a5b0a",
   "metadata": {},
   "outputs": [],
   "source": []
  },
  {
   "cell_type": "code",
   "execution_count": null,
   "id": "62c2cc9f",
   "metadata": {},
   "outputs": [],
   "source": []
  },
  {
   "cell_type": "code",
   "execution_count": null,
   "id": "01d257e5",
   "metadata": {},
   "outputs": [],
   "source": []
  },
  {
   "cell_type": "code",
   "execution_count": null,
   "id": "22962da2",
   "metadata": {},
   "outputs": [],
   "source": []
  },
  {
   "cell_type": "code",
   "execution_count": null,
   "id": "2050456d",
   "metadata": {},
   "outputs": [],
   "source": []
  },
  {
   "cell_type": "code",
   "execution_count": null,
   "id": "62b5f92a",
   "metadata": {},
   "outputs": [],
   "source": []
  },
  {
   "cell_type": "code",
   "execution_count": null,
   "id": "f979ed28",
   "metadata": {},
   "outputs": [],
   "source": []
  },
  {
   "cell_type": "code",
   "execution_count": null,
   "id": "12b4e272",
   "metadata": {},
   "outputs": [],
   "source": []
  },
  {
   "cell_type": "code",
   "execution_count": null,
   "id": "b2d35003",
   "metadata": {},
   "outputs": [],
   "source": []
  },
  {
   "cell_type": "code",
   "execution_count": null,
   "id": "4d52c4b0",
   "metadata": {},
   "outputs": [],
   "source": []
  },
  {
   "cell_type": "code",
   "execution_count": null,
   "id": "e2b2324c",
   "metadata": {},
   "outputs": [],
   "source": []
  },
  {
   "cell_type": "code",
   "execution_count": null,
   "id": "fe77bf19",
   "metadata": {},
   "outputs": [],
   "source": []
  },
  {
   "cell_type": "code",
   "execution_count": null,
   "id": "85e45c85",
   "metadata": {},
   "outputs": [],
   "source": []
  },
  {
   "cell_type": "code",
   "execution_count": null,
   "id": "812a20ee",
   "metadata": {},
   "outputs": [],
   "source": []
  }
 ],
 "metadata": {
  "kernelspec": {
   "display_name": "Python 3",
   "language": "python",
   "name": "python3"
  },
  "language_info": {
   "codemirror_mode": {
    "name": "ipython",
    "version": 3
   },
   "file_extension": ".py",
   "mimetype": "text/x-python",
   "name": "python",
   "nbconvert_exporter": "python",
   "pygments_lexer": "ipython3",
   "version": "3.8.8"
  }
 },
 "nbformat": 4,
 "nbformat_minor": 5
}
