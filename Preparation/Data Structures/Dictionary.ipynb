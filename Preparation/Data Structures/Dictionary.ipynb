{
 "cells": [
  {
   "cell_type": "markdown",
   "id": "8942f112",
   "metadata": {},
   "source": [
    "# Dictionary"
   ]
  },
  {
   "cell_type": "markdown",
   "id": "a3e941b5",
   "metadata": {},
   "source": [
    "Python dictionary is an unordered collection of items. While other compound data types have only value as an element, a dictionary has a key:value pair.\n",
    "\n",
    "As Dictionary is unordered, so it cannot be indexed\n",
    "\n",
    "(Dictionary is like a hashtable)"
   ]
  },
  {
   "cell_type": "markdown",
   "id": "236a189c",
   "metadata": {},
   "source": [
    "# Dict Creation"
   ]
  },
  {
   "cell_type": "code",
   "execution_count": 1,
   "id": "2a9fee54",
   "metadata": {},
   "outputs": [
    {
     "name": "stdout",
     "output_type": "stream",
     "text": [
      "{1: 'abc', 2: 'xyz'}\n",
      "{'name': 'satish', 1: ['abc', 'xyz']}\n",
      "{1: 'abc', 2: 'xyz'}\n"
     ]
    }
   ],
   "source": [
    "#empty creation\n",
    "my_dict = {}\n",
    "\n",
    "#dictionary with integer keys\n",
    "my_dict ={1: 'abc', 2: 'xyz'}\n",
    "print(my_dict)\n",
    "\n",
    "#dictionary with mixed keys\n",
    "my_dict = {'name':'satish', 1: ['abc','xyz']}\n",
    "print(my_dict)\n",
    "\n",
    "#create empty dictionary using dict()\n",
    "my_dict = dict()\n",
    "\n",
    "my_dict = dict([(1, 'abc'),(2, 'xyz')]) #create a dict with list of tuples \n",
    "print(my_dict)"
   ]
  },
  {
   "cell_type": "markdown",
   "id": "1d5a059a",
   "metadata": {},
   "source": [
    "Dictionary can search data for us in very fast and efficient manner as compared to other data structures like list or tuple etc\n",
    "\n"
   ]
  },
  {
   "cell_type": "markdown",
   "id": "a86a9a41",
   "metadata": {},
   "source": [
    "# Dictionary Access"
   ]
  },
  {
   "cell_type": "code",
   "execution_count": 2,
   "id": "b6b23cb5",
   "metadata": {},
   "outputs": [
    {
     "name": "stdout",
     "output_type": "stream",
     "text": [
      "mayur\n"
     ]
    }
   ],
   "source": [
    "my_dict= {'name': 'mayur','age':27,'address':'parola'}\n",
    "\n",
    "#get name\n",
    "print(my_dict['name'])"
   ]
  },
  {
   "cell_type": "code",
   "execution_count": 4,
   "id": "5d6c818d",
   "metadata": {},
   "outputs": [],
   "source": [
    "#if key is not present it gives KeyError\n",
    "#print(my_dict['degree'])"
   ]
  },
  {
   "cell_type": "code",
   "execution_count": 5,
   "id": "e07bf4d9",
   "metadata": {},
   "outputs": [
    {
     "name": "stdout",
     "output_type": "stream",
     "text": [
      "parola\n"
     ]
    }
   ],
   "source": [
    "#another way of accessing key\n",
    "print(my_dict.get('address'))"
   ]
  },
  {
   "cell_type": "code",
   "execution_count": 6,
   "id": "b50b5c2c",
   "metadata": {},
   "outputs": [
    {
     "name": "stdout",
     "output_type": "stream",
     "text": [
      "None\n"
     ]
    }
   ],
   "source": [
    "#if key is not present it will give None using get method\n",
    "print(my_dict.get('degree'))"
   ]
  },
  {
   "cell_type": "markdown",
   "id": "5591d3d4",
   "metadata": {},
   "source": [
    "# Dictionary Add or Modify Elements"
   ]
  },
  {
   "cell_type": "code",
   "execution_count": 7,
   "id": "ef47c13c",
   "metadata": {},
   "outputs": [
    {
     "name": "stdout",
     "output_type": "stream",
     "text": [
      "{'name': 'mayur shimpi', 'age': 27, 'address': 'parola'}\n"
     ]
    }
   ],
   "source": [
    "my_dict= {'name': 'mayur','age':27,'address':'parola'}\n",
    "\n",
    "#update name\n",
    "my_dict['name'] = 'mayur shimpi'\n",
    "\n",
    "print(my_dict)"
   ]
  },
  {
   "cell_type": "code",
   "execution_count": 8,
   "id": "9ff8fae2",
   "metadata": {},
   "outputs": [
    {
     "name": "stdout",
     "output_type": "stream",
     "text": [
      "{'name': 'mayur shimpi', 'age': 27, 'address': 'parola', 'degree': 'M.Tech'}\n"
     ]
    }
   ],
   "source": [
    "#add new key\n",
    "my_dict['degree'] = 'M.Tech'\n",
    "print(my_dict)"
   ]
  },
  {
   "cell_type": "markdown",
   "id": "5feb0cbe",
   "metadata": {},
   "source": [
    "# Dictionary Delete or Remove Elements"
   ]
  },
  {
   "cell_type": "code",
   "execution_count": 11,
   "id": "7cd85b65",
   "metadata": {},
   "outputs": [
    {
     "name": "stdout",
     "output_type": "stream",
     "text": [
      "27\n",
      "{'name': 'mayur', 'address': 'parola'}\n"
     ]
    }
   ],
   "source": [
    "#create a dict\n",
    "my_dict= {'name': 'mayur','age':27,'address':'parola'}\n",
    "\n",
    "#remove a particular item\n",
    "print(my_dict.pop('age')) #it will return value 27 and will remove that pair from dict\n",
    "\n",
    "print(my_dict)"
   ]
  },
  {
   "cell_type": "code",
   "execution_count": 12,
   "id": "83dba0d2",
   "metadata": {},
   "outputs": [
    {
     "name": "stdout",
     "output_type": "stream",
     "text": [
      "{'name': 'mayur', 'age': 27}\n"
     ]
    }
   ],
   "source": [
    "my_dict= {'name': 'mayur','age':27,'address':'parola'}\n",
    "\n",
    "#remove an arbitary key-value pair from dict\n",
    "my_dict.popitem()\n",
    "\n",
    "print(my_dict)"
   ]
  },
  {
   "cell_type": "code",
   "execution_count": 13,
   "id": "1950104c",
   "metadata": {},
   "outputs": [
    {
     "name": "stdout",
     "output_type": "stream",
     "text": [
      "{3: 9, 4: 16, 5: 25}\n"
     ]
    }
   ],
   "source": [
    "squares = {2:4, 3:9, 4:16, 5:25}\n",
    "\n",
    "#delete particular key\n",
    "del squares[2]\n",
    "\n",
    "print(squares)"
   ]
  },
  {
   "cell_type": "code",
   "execution_count": 14,
   "id": "90d2bea2",
   "metadata": {},
   "outputs": [
    {
     "name": "stdout",
     "output_type": "stream",
     "text": [
      "{}\n"
     ]
    }
   ],
   "source": [
    "#remove all items\n",
    "squares.clear()\n",
    "\n",
    "print(squares)"
   ]
  },
  {
   "cell_type": "code",
   "execution_count": 17,
   "id": "289875b9",
   "metadata": {},
   "outputs": [],
   "source": [
    "squares = {2:4, 3:9, 4:16, 5:25}\n",
    "\n",
    "#delete dictionary itself\n",
    "\n",
    "del squares\n",
    "\n",
    "# print(squares) #NameError because dict is deleted"
   ]
  },
  {
   "cell_type": "markdown",
   "id": "7e90cc90",
   "metadata": {},
   "source": [
    "# Dictionary Methods"
   ]
  },
  {
   "cell_type": "code",
   "execution_count": 18,
   "id": "b4deda2c",
   "metadata": {},
   "outputs": [
    {
     "name": "stdout",
     "output_type": "stream",
     "text": [
      "{2: 4, 3: 9, 4: 16, 5: 25}\n"
     ]
    }
   ],
   "source": [
    "squares = {2:4, 3:9, 4:16, 5:25}\n",
    "\n",
    "my_dict = squares.copy()\n",
    "print(my_dict)"
   ]
  },
  {
   "cell_type": "code",
   "execution_count": 19,
   "id": "5dcf61ae",
   "metadata": {},
   "outputs": [
    {
     "name": "stdout",
     "output_type": "stream",
     "text": [
      "{'Math': 0, 'English': 0, 'Hindi': 0}\n"
     ]
    }
   ],
   "source": [
    "#fromkeys[seq[,v]] -> Return a new dictionary with keys from seq and value\n",
    "subjetcs = {}.fromkeys(['Math','English','Hindi'],0)\n",
    "#above line : {} is a empty dict. ['Math','English','Hindi'] is a list and all the three subjets will become keys with same value as 0\n",
    "print(subjetcs)"
   ]
  },
  {
   "cell_type": "code",
   "execution_count": 20,
   "id": "64786f61",
   "metadata": {},
   "outputs": [
    {
     "name": "stdout",
     "output_type": "stream",
     "text": [
      "dict_items([(2, 4), (3, 9), (4, 16), (5, 25)])\n"
     ]
    }
   ],
   "source": [
    "subjetcs={2:4, 3:9 , 4:16, 5:25}\n",
    "print(subjetcs.items()) #return list of tuples\n",
    "#this is one way of visualizing dict"
   ]
  },
  {
   "cell_type": "code",
   "execution_count": 22,
   "id": "42ee96c3",
   "metadata": {},
   "outputs": [
    {
     "name": "stdout",
     "output_type": "stream",
     "text": [
      "dict_keys([2, 3, 4, 5])\n"
     ]
    }
   ],
   "source": [
    "subjetcs={2:4, 3:9 , 4:16, 5:25}\n",
    "print(subjetcs.keys()) # return a new view of the dictionary keys"
   ]
  },
  {
   "cell_type": "code",
   "execution_count": 23,
   "id": "fc87cf5e",
   "metadata": {},
   "outputs": [
    {
     "name": "stdout",
     "output_type": "stream",
     "text": [
      "dict_values([4, 9, 16, 25])\n"
     ]
    }
   ],
   "source": [
    "subjetcs={2:4, 3:9 , 4:16, 5:25}\n",
    "print(subjetcs.values()) # return a new view of the dictionary values"
   ]
  },
  {
   "cell_type": "code",
   "execution_count": 24,
   "id": "6b9070d9",
   "metadata": {},
   "outputs": [
    {
     "name": "stdout",
     "output_type": "stream",
     "text": [
      "['__class__', '__contains__', '__delattr__', '__delitem__', '__dir__', '__doc__', '__eq__', '__format__', '__ge__', '__getattribute__', '__getitem__', '__gt__', '__hash__', '__init__', '__init_subclass__', '__iter__', '__le__', '__len__', '__lt__', '__ne__', '__new__', '__reduce__', '__reduce_ex__', '__repr__', '__reversed__', '__setattr__', '__setitem__', '__sizeof__', '__str__', '__subclasshook__', 'clear', 'copy', 'fromkeys', 'get', 'items', 'keys', 'pop', 'popitem', 'setdefault', 'update', 'values']\n"
     ]
    }
   ],
   "source": [
    "#get list of all available methods and attributes of dictionary\n",
    "d = {}\n",
    "print(dir(d))"
   ]
  },
  {
   "cell_type": "markdown",
   "id": "04dee0d1",
   "metadata": {},
   "source": [
    "# Dictionary Comprehension"
   ]
  },
  {
   "cell_type": "code",
   "execution_count": 26,
   "id": "2c8fc370",
   "metadata": {},
   "outputs": [
    {
     "name": "stdout",
     "output_type": "stream",
     "text": [
      "('a', 1)\n",
      "('b', 2)\n",
      "('c', 3)\n"
     ]
    }
   ],
   "source": [
    "\n",
    "d= {'a':1,'b':2,'c':3}\n",
    "for pair in d.items():\n",
    "    print(pair)#it will print tuples, with first as key and second as value"
   ]
  },
  {
   "cell_type": "code",
   "execution_count": 28,
   "id": "f9a61e0c",
   "metadata": {},
   "outputs": [
    {
     "name": "stdout",
     "output_type": "stream",
     "text": [
      "{'c': 3, 'd': 4}\n"
     ]
    }
   ],
   "source": [
    "#creating new dict with only pairs whose value>2\n",
    "d= {'a':1,'b':2,'c':3, 'd':4}\n",
    "new_dict = {k:v for k,v in d.items() if v>2}\n",
    "print(new_dict)"
   ]
  },
  {
   "cell_type": "code",
   "execution_count": 29,
   "id": "84b2e569",
   "metadata": {},
   "outputs": [
    {
     "name": "stdout",
     "output_type": "stream",
     "text": [
      "{'cc': 6, 'dc': 8, 'ec': 10}\n"
     ]
    }
   ],
   "source": [
    "#we can also perform operations on the key value pairs\n",
    "d={'a':1,'b':2,'c':3,'d':4,'e':5}\n",
    "d = {k + 'c': v * 2 for k,v in d.items() if v>2}\n",
    "print(d)"
   ]
  },
  {
   "cell_type": "code",
   "execution_count": null,
   "id": "e5b73ba4",
   "metadata": {},
   "outputs": [],
   "source": []
  },
  {
   "cell_type": "code",
   "execution_count": null,
   "id": "ad73e785",
   "metadata": {},
   "outputs": [],
   "source": []
  },
  {
   "cell_type": "code",
   "execution_count": null,
   "id": "163eca20",
   "metadata": {},
   "outputs": [],
   "source": []
  },
  {
   "cell_type": "code",
   "execution_count": null,
   "id": "5a477917",
   "metadata": {},
   "outputs": [],
   "source": []
  },
  {
   "cell_type": "code",
   "execution_count": null,
   "id": "8a3e9e27",
   "metadata": {},
   "outputs": [],
   "source": []
  },
  {
   "cell_type": "code",
   "execution_count": null,
   "id": "bcefef50",
   "metadata": {},
   "outputs": [],
   "source": []
  },
  {
   "cell_type": "code",
   "execution_count": null,
   "id": "ff1f613a",
   "metadata": {},
   "outputs": [],
   "source": []
  }
 ],
 "metadata": {
  "kernelspec": {
   "display_name": "Python 3",
   "language": "python",
   "name": "python3"
  },
  "language_info": {
   "codemirror_mode": {
    "name": "ipython",
    "version": 3
   },
   "file_extension": ".py",
   "mimetype": "text/x-python",
   "name": "python",
   "nbconvert_exporter": "python",
   "pygments_lexer": "ipython3",
   "version": "3.8.8"
  }
 },
 "nbformat": 4,
 "nbformat_minor": 5
}
