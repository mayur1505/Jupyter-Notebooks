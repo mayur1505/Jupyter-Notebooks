{
 "cells": [
  {
   "cell_type": "markdown",
   "id": "5b7d91a1",
   "metadata": {},
   "source": [
    "# Strings"
   ]
  },
  {
   "cell_type": "markdown",
   "id": "9fb8d455",
   "metadata": {},
   "source": [
    "    A string is a sequence of characters.\n",
    "\n",
    "    Computers do not deal with characters, they deal with numbers(binary). Even though you may see characters on your screnn, internally it is stored and manipulated as a combination of 0's and 1's.\n",
    "\n",
    "    This conversion of character to a number is called encoding, and the reverse process is decoding. ASCII and Unicode are some of the popular encoding used.\n",
    "\n",
    "    In Python, string is sequence of Unicode character."
   ]
  },
  {
   "cell_type": "markdown",
   "id": "c69352ca",
   "metadata": {},
   "source": [
    "# How to Create a string?"
   ]
  },
  {
   "cell_type": "markdown",
   "id": "90452e9b",
   "metadata": {},
   "source": [
    "Strings can be created by enclosing characters inside a single quote or double quotes.\n",
    "\n",
    "Even triple quotes can be used in Python but generally used to represent multiline strings and docstrings"
   ]
  },
  {
   "cell_type": "code",
   "execution_count": 2,
   "id": "471e8aa3",
   "metadata": {},
   "outputs": [
    {
     "name": "stdout",
     "output_type": "stream",
     "text": [
      "Hello\n",
      "Hello\n",
      "Hello\n"
     ]
    }
   ],
   "source": [
    "mystring='Hello'\n",
    "print(mystring)\n",
    "\n",
    "mystring = \"Hello\"\n",
    "print(mystring)\n",
    "\n",
    "mystring= '''Hello''' #triple quotes are generally used for multiline comments\n",
    "print(mystring)\n"
   ]
  },
  {
   "cell_type": "markdown",
   "id": "97dac87a",
   "metadata": {},
   "source": [
    "# How to access characters in a string?"
   ]
  },
  {
   "cell_type": "markdown",
   "id": "254c6625",
   "metadata": {},
   "source": [
    "We can access individual characters using indexing and a range of characters using slicing.\n",
    "\n",
    "Index starts  from 0\n",
    "\n",
    "Trying to access a character out of index range will raise an IndexError\n",
    "\n",
    "The index must be an integer. We can't use float or other types, this will result into TypeError.\n",
    "\n",
    "Python allows negative indexing for its sequences.\n",
    "\n"
   ]
  },
  {
   "cell_type": "code",
   "execution_count": 4,
   "id": "c2faf989",
   "metadata": {},
   "outputs": [
    {
     "name": "stdout",
     "output_type": "stream",
     "text": [
      "H\n",
      "o\n",
      "llo\n"
     ]
    }
   ],
   "source": [
    "mystring = \"Hello\"\n",
    "\n",
    "#print fist character\n",
    "print(mystring[0])\n",
    "\n",
    "#print last character using negative indexing\n",
    "print(mystring[-1])\n",
    "\n",
    "#slicing 2nd to 5th character\n",
    "print(mystring[2:5])"
   ]
  },
  {
   "cell_type": "markdown",
   "id": "4fb2c74b",
   "metadata": {},
   "source": [
    "If we try to access index out of range or use decimal number, we will get errors"
   ]
  },
  {
   "cell_type": "code",
   "execution_count": 6,
   "id": "fd3a0139",
   "metadata": {},
   "outputs": [],
   "source": [
    "# print(mystring[15]) #IndexError: string index out of range"
   ]
  },
  {
   "cell_type": "code",
   "execution_count": 8,
   "id": "b64768d7",
   "metadata": {},
   "outputs": [],
   "source": [
    "# print(mystring[1.4]) #TypeError: string indices must be integers"
   ]
  },
  {
   "cell_type": "markdown",
   "id": "755f3678",
   "metadata": {},
   "source": [
    "# How to change or delete a string?"
   ]
  },
  {
   "cell_type": "markdown",
   "id": "3e0deddd",
   "metadata": {},
   "source": [
    "Strings are immutable. This means that elements of a string cannot be changed once it has been assigned.\n",
    "\n",
    "We can simply reassign different strings to the same name."
   ]
  },
  {
   "cell_type": "code",
   "execution_count": 10,
   "id": "5578f6ae",
   "metadata": {},
   "outputs": [],
   "source": [
    "mystring = 'Hello'\n",
    "# mystring[3] = 's' #strings are immutable so will throw TypeError"
   ]
  },
  {
   "cell_type": "markdown",
   "id": "b7997389",
   "metadata": {},
   "source": [
    "We cannot delete or remove characters from a string. But deleting the string entirely is possible using the keyword del"
   ]
  },
  {
   "cell_type": "code",
   "execution_count": 11,
   "id": "1679b7cb",
   "metadata": {},
   "outputs": [],
   "source": [
    "del mystring #delete complete string"
   ]
  },
  {
   "cell_type": "code",
   "execution_count": 13,
   "id": "8d05394b",
   "metadata": {},
   "outputs": [],
   "source": [
    "# print(mystring) #will throw NameError"
   ]
  },
  {
   "cell_type": "markdown",
   "id": "b73cf03e",
   "metadata": {},
   "source": [
    "# String Operations"
   ]
  },
  {
   "cell_type": "markdown",
   "id": "d81fcb17",
   "metadata": {},
   "source": [
    "# Concatenation"
   ]
  },
  {
   "cell_type": "markdown",
   "id": "fb859d0c",
   "metadata": {},
   "source": [
    "Joining of two or more strings into a single one is called concatenation.\n",
    "\n",
    "The + operator does this in Python. Simple writing two strings literals together also concatenates them.\n",
    "\n",
    "The * operator can be used to repeat the string for a given number of times"
   ]
  },
  {
   "cell_type": "code",
   "execution_count": 15,
   "id": "241eb9ab",
   "metadata": {},
   "outputs": [
    {
     "name": "stdout",
     "output_type": "stream",
     "text": [
      "Hello Mayur\n",
      "Hello Hello Hello \n"
     ]
    }
   ],
   "source": [
    "s1 = 'Hello '\n",
    "s2 = 'Mayur'\n",
    "\n",
    "#concatenation of 2 strings\n",
    "print(s1+s2)\n",
    "\n",
    "#repeat string n times\n",
    "print(s1 * 3)"
   ]
  },
  {
   "cell_type": "markdown",
   "id": "1b3c673a",
   "metadata": {},
   "source": [
    "# Iteration Through String"
   ]
  },
  {
   "cell_type": "code",
   "execution_count": 16,
   "id": "a9798b33",
   "metadata": {},
   "outputs": [
    {
     "name": "stdout",
     "output_type": "stream",
     "text": [
      "2  letters found\n"
     ]
    }
   ],
   "source": [
    "count = 0\n",
    "for l in 'Hello World':\n",
    "    if l == 'o':\n",
    "        count +=1\n",
    "print(count, ' letters found')"
   ]
  },
  {
   "cell_type": "markdown",
   "id": "6f785c48",
   "metadata": {},
   "source": [
    "# String Membership Test"
   ]
  },
  {
   "cell_type": "code",
   "execution_count": 17,
   "id": "570f0eb3",
   "metadata": {},
   "outputs": [
    {
     "name": "stdout",
     "output_type": "stream",
     "text": [
      "True\n"
     ]
    }
   ],
   "source": [
    "print('l' in 'Hello World') #in operator to test membership"
   ]
  },
  {
   "cell_type": "code",
   "execution_count": 18,
   "id": "293cebed",
   "metadata": {},
   "outputs": [
    {
     "name": "stdout",
     "output_type": "stream",
     "text": [
      "True\n"
     ]
    }
   ],
   "source": [
    "print('or' in 'Hello World')"
   ]
  },
  {
   "cell_type": "markdown",
   "id": "18a49fdb",
   "metadata": {},
   "source": [
    "# String Methods"
   ]
  },
  {
   "cell_type": "markdown",
   "id": "1762d69f",
   "metadata": {},
   "source": [
    "Some of the commonly used methods are lower(), upper(), join(), split(), find(), replace() etc"
   ]
  },
  {
   "cell_type": "code",
   "execution_count": 19,
   "id": "ddd63a7f",
   "metadata": {},
   "outputs": [
    {
     "data": {
      "text/plain": [
       "'hello'"
      ]
     },
     "execution_count": 19,
     "metadata": {},
     "output_type": "execute_result"
    }
   ],
   "source": [
    "'Hello'.lower()"
   ]
  },
  {
   "cell_type": "code",
   "execution_count": 20,
   "id": "a0e56e92",
   "metadata": {},
   "outputs": [
    {
     "data": {
      "text/plain": [
       "'HELLO'"
      ]
     },
     "execution_count": 20,
     "metadata": {},
     "output_type": "execute_result"
    }
   ],
   "source": [
    "'Hello'.upper()"
   ]
  },
  {
   "cell_type": "code",
   "execution_count": 21,
   "id": "213915f9",
   "metadata": {},
   "outputs": [
    {
     "data": {
      "text/plain": [
       "['This', 'will', 'split', 'all', 'words', 'in', 'a', 'list']"
      ]
     },
     "execution_count": 21,
     "metadata": {},
     "output_type": "execute_result"
    }
   ],
   "source": [
    "\"This will split all words in a list\".split() #this will print a list"
   ]
  },
  {
   "cell_type": "code",
   "execution_count": 22,
   "id": "01f34d9f",
   "metadata": {},
   "outputs": [
    {
     "data": {
      "text/plain": [
       "'This will split all words in a list'"
      ]
     },
     "execution_count": 22,
     "metadata": {},
     "output_type": "execute_result"
    }
   ],
   "source": [
    "' '.join(['This','will','split','all','words','in','a','list'])#all will concateneted with space\n",
    "#here space is delimeter"
   ]
  },
  {
   "cell_type": "code",
   "execution_count": 23,
   "id": "e89cea54",
   "metadata": {},
   "outputs": [
    {
     "data": {
      "text/plain": [
       "'This ,will ,split ,all ,words ,in ,a ,list'"
      ]
     },
     "execution_count": 23,
     "metadata": {},
     "output_type": "execute_result"
    }
   ],
   "source": [
    "' ,'.join(['This','will','split','all','words','in','a','list'])"
   ]
  },
  {
   "cell_type": "code",
   "execution_count": 24,
   "id": "abfb80b2",
   "metadata": {},
   "outputs": [
    {
     "data": {
      "text/plain": [
       "'This ()will ()split ()all ()words ()in ()a ()list'"
      ]
     },
     "execution_count": 24,
     "metadata": {},
     "output_type": "execute_result"
    }
   ],
   "source": [
    "' ()'.join(['This','will','split','all','words','in','a','list'])"
   ]
  },
  {
   "cell_type": "code",
   "execution_count": 25,
   "id": "a4c5e3da",
   "metadata": {},
   "outputs": [
    {
     "data": {
      "text/plain": [
       "'This- will- split- all- words- in- a- list'"
      ]
     },
     "execution_count": 25,
     "metadata": {},
     "output_type": "execute_result"
    }
   ],
   "source": [
    "'- '.join(['This','will','split','all','words','in','a','list'])"
   ]
  },
  {
   "cell_type": "code",
   "execution_count": 26,
   "id": "e969a2e2",
   "metadata": {},
   "outputs": [
    {
     "data": {
      "text/plain": [
       "5"
      ]
     },
     "execution_count": 26,
     "metadata": {},
     "output_type": "execute_result"
    }
   ],
   "source": [
    "'Good Morning'.find('Mo')"
   ]
  },
  {
   "cell_type": "code",
   "execution_count": 30,
   "id": "1bee4d83",
   "metadata": {},
   "outputs": [
    {
     "name": "stdout",
     "output_type": "stream",
     "text": [
      "Bad Morning\n",
      "Good Morning\n"
     ]
    }
   ],
   "source": [
    "s1='Bad Morning'\n",
    "s2=s1.replace('Bad','Good')#replace will create a new string by replacing given words because strings are immutable. So we can't do changes in s1\n",
    "print(s1)\n",
    "print(s2)"
   ]
  },
  {
   "cell_type": "markdown",
   "id": "b105ac2f",
   "metadata": {},
   "source": [
    "# Python Program to Check where a string is Palindrome or Not?"
   ]
  },
  {
   "cell_type": "code",
   "execution_count": 35,
   "id": "ab831856",
   "metadata": {},
   "outputs": [
    {
     "name": "stdout",
     "output_type": "stream",
     "text": [
      "Given String is palindrome\n"
     ]
    }
   ],
   "source": [
    "mystr = 'MadaM'\n",
    "\n",
    "#convert entire string to either lower or upper\n",
    "mystr = mystr.lower()\n",
    "\n",
    "#reverse string\n",
    "revstr = reversed(mystr)\n",
    "\n",
    "# print(list(mystr))\n",
    "# print(list(revstr))\n",
    "\n",
    "#check if the string is equal to its reverse\n",
    "if list(mystr) == list(revstr):\n",
    "    print(\"Given String is palindrome\")\n",
    "else:\n",
    "    print(\"Given String is not Palindrome\")"
   ]
  },
  {
   "cell_type": "markdown",
   "id": "221001f1",
   "metadata": {},
   "source": [
    "# Python Program to sort words in Alphabetic order?\n"
   ]
  },
  {
   "cell_type": "code",
   "execution_count": 37,
   "id": "cea6f558",
   "metadata": {},
   "outputs": [
    {
     "name": "stdout",
     "output_type": "stream",
     "text": [
      "Alphabetic\n",
      "Order\n",
      "Program\n",
      "Python\n",
      "Sort\n",
      "in\n",
      "to\n",
      "words\n"
     ]
    }
   ],
   "source": [
    "mystr = 'Python Program to Sort words in Alphabetic Order'\n",
    "\n",
    "#breakdown the string into list of words\n",
    "\n",
    "words = mystr.split()\n",
    "\n",
    "#sort the list\n",
    "words.sort()\n",
    "\n",
    "#print sorted words are \n",
    "for word in words:\n",
    "    print(word)"
   ]
  },
  {
   "cell_type": "code",
   "execution_count": null,
   "id": "d85360af",
   "metadata": {},
   "outputs": [],
   "source": []
  },
  {
   "cell_type": "code",
   "execution_count": null,
   "id": "964d0d3e",
   "metadata": {},
   "outputs": [],
   "source": []
  },
  {
   "cell_type": "code",
   "execution_count": null,
   "id": "28e06ba7",
   "metadata": {},
   "outputs": [],
   "source": []
  },
  {
   "cell_type": "code",
   "execution_count": null,
   "id": "aca8c142",
   "metadata": {},
   "outputs": [],
   "source": []
  },
  {
   "cell_type": "code",
   "execution_count": null,
   "id": "c759aeeb",
   "metadata": {},
   "outputs": [],
   "source": []
  },
  {
   "cell_type": "code",
   "execution_count": null,
   "id": "354cb3a6",
   "metadata": {},
   "outputs": [],
   "source": []
  },
  {
   "cell_type": "code",
   "execution_count": null,
   "id": "77fd809a",
   "metadata": {},
   "outputs": [],
   "source": []
  },
  {
   "cell_type": "code",
   "execution_count": null,
   "id": "ecfa97ec",
   "metadata": {},
   "outputs": [],
   "source": []
  },
  {
   "cell_type": "code",
   "execution_count": null,
   "id": "e1aa5aca",
   "metadata": {},
   "outputs": [],
   "source": []
  },
  {
   "cell_type": "code",
   "execution_count": null,
   "id": "34de51aa",
   "metadata": {},
   "outputs": [],
   "source": []
  },
  {
   "cell_type": "code",
   "execution_count": null,
   "id": "9438d756",
   "metadata": {},
   "outputs": [],
   "source": []
  },
  {
   "cell_type": "code",
   "execution_count": null,
   "id": "87f42ed2",
   "metadata": {},
   "outputs": [],
   "source": []
  },
  {
   "cell_type": "code",
   "execution_count": null,
   "id": "35bb9501",
   "metadata": {},
   "outputs": [],
   "source": []
  },
  {
   "cell_type": "code",
   "execution_count": null,
   "id": "24782433",
   "metadata": {},
   "outputs": [],
   "source": []
  },
  {
   "cell_type": "code",
   "execution_count": null,
   "id": "63c14feb",
   "metadata": {},
   "outputs": [],
   "source": []
  },
  {
   "cell_type": "code",
   "execution_count": null,
   "id": "fd3f2e34",
   "metadata": {},
   "outputs": [],
   "source": []
  },
  {
   "cell_type": "code",
   "execution_count": null,
   "id": "7ec12aee",
   "metadata": {},
   "outputs": [],
   "source": []
  }
 ],
 "metadata": {
  "kernelspec": {
   "display_name": "Python 3",
   "language": "python",
   "name": "python3"
  },
  "language_info": {
   "codemirror_mode": {
    "name": "ipython",
    "version": 3
   },
   "file_extension": ".py",
   "mimetype": "text/x-python",
   "name": "python",
   "nbconvert_exporter": "python",
   "pygments_lexer": "ipython3",
   "version": "3.8.8"
  }
 },
 "nbformat": 4,
 "nbformat_minor": 5
}
