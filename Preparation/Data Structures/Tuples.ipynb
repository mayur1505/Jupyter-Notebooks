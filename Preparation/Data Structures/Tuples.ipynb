{
 "cells": [
  {
   "cell_type": "markdown",
   "id": "923e4f8c",
   "metadata": {},
   "source": [
    "# Tuples"
   ]
  },
  {
   "cell_type": "markdown",
   "id": "1a92e76c",
   "metadata": {},
   "source": [
    "-> A tuple is similar to list, but those are immutable\n",
    "\n",
    "-> The difference between the two is that we can't change the elements of tuple once it is assigned(i.e.immutable) whereas in the list, elements can be changed(mutable)"
   ]
  },
  {
   "cell_type": "markdown",
   "id": "c80dd5d9",
   "metadata": {},
   "source": [
    "# Tuple Creation"
   ]
  },
  {
   "cell_type": "code",
   "execution_count": 3,
   "id": "f0ba68f0",
   "metadata": {},
   "outputs": [
    {
     "name": "stdout",
     "output_type": "stream",
     "text": [
      "(1, 2, 3)\n",
      "(1, 'raju', 28, 'abc')\n",
      "(1, (2, 3, 4), [1, 'raju', 28, 'abc'])\n"
     ]
    }
   ],
   "source": [
    "#empty tuple\n",
    "t = ()\n",
    "\n",
    "#tuple having integers\n",
    "t = (1,2,3)\n",
    "print(t)\n",
    "\n",
    "#tuple with mixed datatypes\n",
    "t = (1, 'raju', 28, 'abc')\n",
    "print(t)\n",
    "\n",
    "#nested tuple\n",
    "t=(1,(2,3,4),[1, 'raju', 28, 'abc']) #the second element in the tuple is tuple only and third is list\n",
    "print(t)"
   ]
  },
  {
   "cell_type": "code",
   "execution_count": 4,
   "id": "564ca102",
   "metadata": {},
   "outputs": [
    {
     "data": {
      "text/plain": [
       "str"
      ]
     },
     "execution_count": 4,
     "metadata": {},
     "output_type": "execute_result"
    }
   ],
   "source": [
    "#only paranthesis is not enough\n",
    "t = ('mayur')\n",
    "type(t)"
   ]
  },
  {
   "cell_type": "code",
   "execution_count": 5,
   "id": "9bd5a83e",
   "metadata": {},
   "outputs": [
    {
     "data": {
      "text/plain": [
       "tuple"
      ]
     },
     "execution_count": 5,
     "metadata": {},
     "output_type": "execute_result"
    }
   ],
   "source": [
    "#need a comma at the end\n",
    "t = ('mayur',)\n",
    "type(t )"
   ]
  },
  {
   "cell_type": "code",
   "execution_count": 6,
   "id": "b68b6140",
   "metadata": {},
   "outputs": [
    {
     "name": "stdout",
     "output_type": "stream",
     "text": [
      "<class 'tuple'>\n",
      "('satish',)\n"
     ]
    }
   ],
   "source": [
    "#paranthesis is optional\n",
    "t = 'satish', #because of comma python understands it's a comma\n",
    "print(type(t))\n",
    "\n",
    "print(t)"
   ]
  },
  {
   "cell_type": "code",
   "execution_count": 9,
   "id": "02b3185a",
   "metadata": {},
   "outputs": [
    {
     "name": "stdout",
     "output_type": "stream",
     "text": [
      "<class 'tuple'>\n",
      "('mayur', 3, 'kalyani', 54)\n"
     ]
    }
   ],
   "source": [
    "t= 'mayur',3,'kalyani',54 #as here we have more than one elements so need of comma at the end\n",
    "print(type(t))\n",
    "\n",
    "print(t)"
   ]
  },
  {
   "cell_type": "markdown",
   "id": "527acb51",
   "metadata": {},
   "source": [
    "# Accessing Elements in Tuple"
   ]
  },
  {
   "cell_type": "code",
   "execution_count": 10,
   "id": "e361228f",
   "metadata": {},
   "outputs": [
    {
     "name": "stdout",
     "output_type": "stream",
     "text": [
      "murali\n"
     ]
    }
   ],
   "source": [
    "t = ('satish','murali','naveen','srinu','brahma')\n",
    "\n",
    "print(t[1])"
   ]
  },
  {
   "cell_type": "code",
   "execution_count": 12,
   "id": "e262ea24",
   "metadata": {},
   "outputs": [
    {
     "name": "stdout",
     "output_type": "stream",
     "text": [
      "brahma\n"
     ]
    }
   ],
   "source": [
    "#negative index\n",
    "print(t[-1]) #last element of tuple"
   ]
  },
  {
   "cell_type": "code",
   "execution_count": 14,
   "id": "9868efea",
   "metadata": {},
   "outputs": [
    {
     "name": "stdout",
     "output_type": "stream",
     "text": [
      "('murali', 'naveen', 'srinu', 'brahma')\n",
      "srinu\n"
     ]
    }
   ],
   "source": [
    "#nested tuple\n",
    "t = ('satish',('murali','naveen','srinu','brahma'))\n",
    "\n",
    "print(t[1])\n",
    "\n",
    "print(t[1][2]) #way of indexing tuple within tuple"
   ]
  },
  {
   "cell_type": "markdown",
   "id": "dc6297ca",
   "metadata": {},
   "source": [
    "# Tuple Slicing"
   ]
  },
  {
   "cell_type": "code",
   "execution_count": 15,
   "id": "50d6ea6b",
   "metadata": {},
   "outputs": [
    {
     "name": "stdout",
     "output_type": "stream",
     "text": [
      "(2, 3, 4)\n",
      "(1, 2, 3, 4, 5, 6)\n",
      "(1, 2, 3, 4, 5, 6, 7, 8)\n"
     ]
    }
   ],
   "source": [
    "#Slicing in tuples and lists in Python follows similar syntax, but there are differences due to the mutability of lists and the immutability of tuples.\n",
    "\n",
    "t = (1,2,3,4,5,6,7,8)\n",
    "\n",
    "print(t[1:4])\n",
    "\n",
    "# print elements from starting to 2nd last elements\n",
    "print(t[:-2])\n",
    "\n",
    "#print elements from start to end\n",
    "print(t[:])"
   ]
  },
  {
   "cell_type": "code",
   "execution_count": null,
   "id": "e65d8eb5",
   "metadata": {},
   "outputs": [],
   "source": [
    "# Attempting to modify tuple elements using slicing (which is not possible)\n",
    "# t[1:3] = (10, 20)  # This will raise a TypeError\n",
    "# lists allow modification of elements using slicing, while tuples do not allow due to their immutability."
   ]
  },
  {
   "cell_type": "code",
   "execution_count": 17,
   "id": "afe4c208",
   "metadata": {},
   "outputs": [
    {
     "name": "stdout",
     "output_type": "stream",
     "text": [
      "(1, 2, 3, 4, 5, [6, 'Mayur', 8])\n"
     ]
    }
   ],
   "source": [
    "#now we know that elements of tuple cannot be changed once assigned. But, if the element is itself mutable \n",
    "#datatype like list, its nested items can be changed\n",
    "t = (1,2,3,4,5,[6,7,8]) #nested tuple with list\n",
    "\n",
    "#changing element in list which is inside tuple\n",
    "t[5][1]='Mayur'\n",
    "print(t)"
   ]
  },
  {
   "cell_type": "code",
   "execution_count": 18,
   "id": "9aaa9a15",
   "metadata": {},
   "outputs": [
    {
     "name": "stdout",
     "output_type": "stream",
     "text": [
      "(1, 2, 3, 4, 5, [6, 7, 8])\n"
     ]
    }
   ],
   "source": [
    "#concatinating tuples\n",
    " \n",
    "t = (1,2,3)+(4,5,[6,7,8])\n",
    "print(t)"
   ]
  },
  {
   "cell_type": "code",
   "execution_count": 19,
   "id": "00d1330f",
   "metadata": {},
   "outputs": [
    {
     "name": "stdout",
     "output_type": "stream",
     "text": [
      "('mayur', 'mayur', 'mayur', 'mayur')\n"
     ]
    }
   ],
   "source": [
    "#repeat the elements in a tuple for a given number of times\n",
    "#using *operation\n",
    "t = (('mayur',)*4)\n",
    "print(t)"
   ]
  },
  {
   "cell_type": "code",
   "execution_count": 20,
   "id": "f9d2779e",
   "metadata": {},
   "outputs": [
    {
     "name": "stdout",
     "output_type": "stream",
     "text": [
      "('mayur', 'kalyani', 'mayur', 'kalyani', 'mayur', 'kalyani', 'mayur', 'kalyani')\n"
     ]
    }
   ],
   "source": [
    "t = (('mayur','kalyani')*4)\n",
    "print(t)"
   ]
  },
  {
   "cell_type": "markdown",
   "id": "6d44ec07",
   "metadata": {},
   "source": [
    "# Tuple Deletion"
   ]
  },
  {
   "cell_type": "code",
   "execution_count": 22,
   "id": "3835e694",
   "metadata": {},
   "outputs": [],
   "source": [
    "# we cannot change the elements in a tuple.\n",
    "#that also means we cannot delete or remove items from a tuple\n",
    "\n",
    "t = (1,2,3,4,5,6,7,8)\n",
    "\n",
    "#delete entire tuple using del keyword\n",
    "\n",
    "del t\n"
   ]
  },
  {
   "cell_type": "markdown",
   "id": "2606bf93",
   "metadata": {},
   "source": [
    "# Tuple Count"
   ]
  },
  {
   "cell_type": "code",
   "execution_count": 23,
   "id": "57691177",
   "metadata": {},
   "outputs": [
    {
     "data": {
      "text/plain": [
       "3"
      ]
     },
     "execution_count": 23,
     "metadata": {},
     "output_type": "execute_result"
    }
   ],
   "source": [
    "t = (1,2,3,1,3,3,4,1)\n",
    "\n",
    "#get the frequency of particular element appears in a tuple\n",
    "t.count(1)\n"
   ]
  },
  {
   "cell_type": "markdown",
   "id": "367fd4b1",
   "metadata": {},
   "source": [
    "# Tuple Index"
   ]
  },
  {
   "cell_type": "code",
   "execution_count": 24,
   "id": "8c5d4fb0",
   "metadata": {},
   "outputs": [
    {
     "name": "stdout",
     "output_type": "stream",
     "text": [
      "2\n"
     ]
    }
   ],
   "source": [
    "t = (1,2,3,1,3,3,4,1)\n",
    "\n",
    "print(t.index(3)) #return index of the first element which is equal to 3\n",
    "\n"
   ]
  },
  {
   "cell_type": "markdown",
   "id": "b9cdea1e",
   "metadata": {},
   "source": [
    "# Tuple Membership"
   ]
  },
  {
   "cell_type": "code",
   "execution_count": 25,
   "id": "290e1a6c",
   "metadata": {},
   "outputs": [
    {
     "name": "stdout",
     "output_type": "stream",
     "text": [
      "True\n"
     ]
    }
   ],
   "source": [
    "# test if an item exists in a tuple or not, using keyword in.\n",
    "t = (1,2,3,1,3,3,4,1)\n",
    "\n",
    "print(1 in t)"
   ]
  },
  {
   "cell_type": "code",
   "execution_count": 26,
   "id": "4588321b",
   "metadata": {},
   "outputs": [
    {
     "name": "stdout",
     "output_type": "stream",
     "text": [
      "False\n"
     ]
    }
   ],
   "source": [
    "print(7 in t)"
   ]
  },
  {
   "cell_type": "markdown",
   "id": "356be12d",
   "metadata": {},
   "source": [
    "# Built in Function"
   ]
  },
  {
   "cell_type": "markdown",
   "id": "923fb6c7",
   "metadata": {},
   "source": [
    "## Tuple Length"
   ]
  },
  {
   "cell_type": "code",
   "execution_count": 27,
   "id": "e3332851",
   "metadata": {},
   "outputs": [
    {
     "name": "stdout",
     "output_type": "stream",
     "text": [
      "8\n"
     ]
    }
   ],
   "source": [
    "t = (1,2,3,1,3,3,4,1)\n",
    "print(len(t))"
   ]
  },
  {
   "cell_type": "markdown",
   "id": "4976908d",
   "metadata": {},
   "source": [
    "## Tuple sort"
   ]
  },
  {
   "cell_type": "code",
   "execution_count": 30,
   "id": "9b48a7d0",
   "metadata": {},
   "outputs": [
    {
     "name": "stdout",
     "output_type": "stream",
     "text": [
      "[1, 1, 1, 2, 3, 3, 3, 4]\n"
     ]
    }
   ],
   "source": [
    "t = (1,2,3,1,3,3,4,1)\n",
    "\n",
    "new_t=sorted(t) # using sorted on tuple will return a list\n",
    "\n",
    "print(new_t) #sorted \"list\" will be printed\n",
    "\n",
    "#as tuples are immutable, so sorted does not sort the tuple itself"
   ]
  },
  {
   "cell_type": "code",
   "execution_count": 31,
   "id": "5a41f6d9",
   "metadata": {},
   "outputs": [
    {
     "name": "stdout",
     "output_type": "stream",
     "text": [
      "4\n"
     ]
    }
   ],
   "source": [
    "#get the largest elements in tuple\n",
    "t = (1,2,3,1,3,3,4,1)\n",
    "\n",
    "print(max(t))"
   ]
  },
  {
   "cell_type": "code",
   "execution_count": 34,
   "id": "b6058227",
   "metadata": {},
   "outputs": [
    {
     "name": "stdout",
     "output_type": "stream",
     "text": [
      "1\n"
     ]
    }
   ],
   "source": [
    "#get the smalled elements in tuple\n",
    "t = (1,2,3,1,3,3,4,1)\n",
    "\n",
    "print(min(t))"
   ]
  },
  {
   "cell_type": "code",
   "execution_count": 35,
   "id": "4b505b7e",
   "metadata": {},
   "outputs": [
    {
     "name": "stdout",
     "output_type": "stream",
     "text": [
      "18\n"
     ]
    }
   ],
   "source": [
    "#get the sum of elements in tuple\n",
    "t = (1,2,3,1,3,3,4,1)\n",
    "\n",
    "print(sum(t))"
   ]
  },
  {
   "cell_type": "code",
   "execution_count": null,
   "id": "d2aa824e",
   "metadata": {},
   "outputs": [],
   "source": []
  },
  {
   "cell_type": "code",
   "execution_count": null,
   "id": "f480e968",
   "metadata": {},
   "outputs": [],
   "source": []
  },
  {
   "cell_type": "code",
   "execution_count": null,
   "id": "c4862084",
   "metadata": {},
   "outputs": [],
   "source": []
  }
 ],
 "metadata": {
  "kernelspec": {
   "display_name": "Python 3",
   "language": "python",
   "name": "python3"
  },
  "language_info": {
   "codemirror_mode": {
    "name": "ipython",
    "version": 3
   },
   "file_extension": ".py",
   "mimetype": "text/x-python",
   "name": "python",
   "nbconvert_exporter": "python",
   "pygments_lexer": "ipython3",
   "version": "3.8.8"
  }
 },
 "nbformat": 4,
 "nbformat_minor": 5
}
