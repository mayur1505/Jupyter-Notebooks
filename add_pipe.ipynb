{
 "cells": [
  {
   "cell_type": "code",
   "execution_count": 1,
   "id": "220284b0",
   "metadata": {},
   "outputs": [],
   "source": [
    "import spacy"
   ]
  },
  {
   "cell_type": "code",
   "execution_count": 2,
   "id": "4c6c3d77",
   "metadata": {},
   "outputs": [],
   "source": [
    "custom_nlp = spacy.load('en_core_web_sm')"
   ]
  },
  {
   "cell_type": "code",
   "execution_count": 9,
   "id": "36020eca",
   "metadata": {},
   "outputs": [],
   "source": [
    "from spacy.language import Language"
   ]
  },
  {
   "cell_type": "code",
   "execution_count": 10,
   "id": "c36380bd",
   "metadata": {},
   "outputs": [],
   "source": [
    "@Language.component('Mayur')\n",
    "def set_rule(doc):\n",
    "    for token in doc[:-1]:\n",
    "        if token.text == '.*.':\n",
    "            doc[token.i+1].is_sent_start=True\n",
    "    return doc "
   ]
  },
  {
   "cell_type": "code",
   "execution_count": null,
   "id": "9e8e3060",
   "metadata": {},
   "outputs": [],
   "source": []
  },
  {
   "cell_type": "code",
   "execution_count": 11,
   "id": "17346b48",
   "metadata": {},
   "outputs": [
    {
     "data": {
      "text/plain": [
       "<function __main__.set_rule(doc)>"
      ]
     },
     "execution_count": 11,
     "metadata": {},
     "output_type": "execute_result"
    }
   ],
   "source": [
    "custom_nlp.add_pipe('Mayur', before='parser')"
   ]
  },
  {
   "cell_type": "code",
   "execution_count": null,
   "id": "da2840cf",
   "metadata": {},
   "outputs": [],
   "source": []
  }
 ],
 "metadata": {
  "kernelspec": {
   "display_name": "Python 3",
   "language": "python",
   "name": "python3"
  },
  "language_info": {
   "codemirror_mode": {
    "name": "ipython",
    "version": 3
   },
   "file_extension": ".py",
   "mimetype": "text/x-python",
   "name": "python",
   "nbconvert_exporter": "python",
   "pygments_lexer": "ipython3",
   "version": "3.8.8"
  }
 },
 "nbformat": 4,
 "nbformat_minor": 5
}
